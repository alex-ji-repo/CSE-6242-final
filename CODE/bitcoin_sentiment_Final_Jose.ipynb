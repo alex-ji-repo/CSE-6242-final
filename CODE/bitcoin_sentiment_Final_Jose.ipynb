{
 "cells": [
  {
   "cell_type": "code",
   "execution_count": 1,
   "metadata": {},
   "outputs": [
    {
     "name": "stderr",
     "output_type": "stream",
     "text": [
      "[nltk_data] Downloading package stopwords to\n",
      "[nltk_data]     C:\\Users\\jfern\\AppData\\Roaming\\nltk_data...\n",
      "[nltk_data]   Package stopwords is already up-to-date!\n",
      "[nltk_data] Downloading package wordnet to\n",
      "[nltk_data]     C:\\Users\\jfern\\AppData\\Roaming\\nltk_data...\n",
      "[nltk_data]   Package wordnet is already up-to-date!\n"
     ]
    }
   ],
   "source": [
    "import pandas as pd\n",
    "import numpy as np\n",
    "import textblob\n",
    "from textblob import TextBlob\n",
    "import matplotlib.pyplot as plt\n",
    "import statsmodels.api as sm\n",
    "import nltk\n",
    "nltk.download(\"stopwords\")\n",
    "nltk.download(\"wordnet\")\n",
    "from nltk.corpus import stopwords\n",
    "from nltk.stem import SnowballStemmer, WordNetLemmatizer\n",
    "from nltk.tokenize import RegexpTokenizer\n",
    "from sklearn.model_selection import cross_val_score\n",
    "from sklearn import linear_model, preprocessing, model_selection \n",
    "from sklearn.linear_model import LogisticRegression\n",
    "from sklearn.ensemble import RandomForestClassifier, GradientBoostingClassifier\n",
    "from sklearn.svm import SVC\n",
    "from sklearn import metrics\n",
    "from sklearn.feature_selection import SelectFromModel\n",
    "from sklearn.tree import DecisionTreeClassifier \n",
    "from sklearn.neighbors import KNeighborsClassifier\n",
    "from sklearn.metrics import roc_auc_score, confusion_matrix, average_precision_score\n",
    "from sklearn.preprocessing import StandardScaler\n",
    "import warnings\n",
    "warnings.filterwarnings(\"ignore\")\n",
    "from statsmodels.graphics.tsaplots import plot_acf, plot_pacf\n",
    "import statsmodels.api as sm\n",
    "import os"
   ]
  },
  {
   "cell_type": "code",
   "execution_count": 7,
   "metadata": {},
   "outputs": [],
   "source": [
    "dirpath1 = 'C:\\\\Users\\\\jfern\\\\Desktop\\\\OMSCS\\\\Data Analytics\\\\Project\\\\Post_ID\\\\'\n",
    "dirpath2 = 'C:\\\\Users\\\\jfern\\\\Desktop\\\\OMSCS\\\\Data Analytics\\\\Project\\\\Post\\\\'\n",
    "dirpath3 = 'C:\\\\Users\\\\jfern\\\\Desktop\\\\OMSCS\\\\Data Analytics\\\\Project\\\\Comments\\\\'\n",
    "\n",
    "post_id = pd.DataFrame()\n",
    "for file in os.listdir(dirpath1):\n",
    "    post_id = post_id .append(pd.read_json(os.path.join(dirpath1, file)))\n",
    "post_id.to_csv(\"Post_ID.csv\") \n",
    "    \n",
    "df_posts = pd.DataFrame()\n",
    "for file in os.listdir(dirpath2):\n",
    "    df_posts=df_posts.append(pd.read_json(os.path.join(dirpath2, file)))\n",
    "df_posts.to_csv(\"Posts.csv\") \n",
    "    \n",
    "df_comments = pd.DataFrame()\n",
    "for file in os.listdir(dirpath3):\n",
    "    df_comments= df_comments.append(pd.read_json(os.path.join(dirpath3, file)))\n",
    "df_comments.to_csv(\"Comments.csv\") \n",
    "\n"
   ]
  },
  {
   "cell_type": "code",
   "execution_count": 2,
   "metadata": {},
   "outputs": [],
   "source": [
    "df=pd.read_csv(\"Comments.csv\",parse_dates=['created_utc'])\n",
    "df = df.rename(columns={'created_utc': 'Date'})\n",
    "df[\"post_id\"]=df[\"link_id\"].str.split(\"_\").str[-1]"
   ]
  },
  {
   "cell_type": "code",
   "execution_count": 7,
   "metadata": {},
   "outputs": [],
   "source": [
    "stop_words = stopwords.words(\"english\")\n",
    "stemmer = SnowballStemmer(\"english\", ignore_stopwords=True)\n",
    "lemmatizer = WordNetLemmatizer()\n",
    "tokenizer = RegexpTokenizer(r\"\\w+\")\n",
    "\n",
    "def sentiment_calc(text):\n",
    "    try:\n",
    "        token=tokenizer.tokenize(text.lower())\n",
    "        words=[lemmatizer.lemmatize(w) for w in token if w not in stop_words]\n",
    "        stem_text=\" \".join([stemmer.stem(i) for i in words])\n",
    "        return TextBlob(stem_text).sentiment.polarity\n",
    "    except:\n",
    "        return None\n",
    "\n",
    "def subjectivity_calc(text):\n",
    "    try:\n",
    "        token=tokenizer.tokenize(text.lower())\n",
    "        words=[lemmatizer.lemmatize(w) for w in token if w not in stop_words]\n",
    "        stem_text=\" \".join([stemmer.stem(i) for i in words])\n",
    "        return TextBlob(stem_text).sentiment.subjectivity\n",
    "    except:\n",
    "        return None\n",
    "    \n",
    "df['sentiment'] = df['body'].apply(sentiment_calc)\n",
    "df['subjectivity'] = df['body'].apply(subjectivity_calc)"
   ]
  },
  {
   "cell_type": "code",
   "execution_count": 9,
   "metadata": {},
   "outputs": [],
   "source": [
    "df_temp_1= df.groupby(['Date','post_id'], as_index=False, sort=False)['author'].nunique()\n",
    "df_temp_1 = df_temp_1.rename(columns={'author': 'Num Replies'})\n",
    "df_temp_2 = df.groupby(['Date','post_id'], as_index=False, sort=False)['sentiment','subjectivity','score'].mean()\n",
    "df_comments=pd.merge(df_temp_1, df_temp_2 , on=['Date','post_id'])\n",
    "df_comments= df_comments.groupby('Date', as_index=False, sort=False)['sentiment','subjectivity','score','Num Replies'].mean()\n"
   ]
  },
  {
   "cell_type": "code",
   "execution_count": 59,
   "metadata": {},
   "outputs": [],
   "source": [
    "# df_temp_1= df.groupby(['Date','post_id'], as_index=False, sort=False)['author'].nunique()\n",
    "# df_temp_1 = df_temp_1.rename(columns={'author': 'Num Replies'})\n",
    "# df_temp_2 = df.groupby(['Date','post_id'], as_index=False, sort=False)['sentiment','subjectivity','score'].mean()\n",
    "# df_comments=pd.merge(df_temp_1, df_temp_2 , on=['Date','post_id'])\n",
    "# df_comments= df_comments.groupby('Date', as_index=False, sort=False)['sentiment','subjectivity','score','Num Replies'].mean()\n",
    "\n",
    "bitcoin=pd.read_csv('Bitcoin_data.csv',parse_dates=['Date'])\n",
    "\n",
    "df_merge=pd.merge(df_comments, bitcoin, on='Date')\n",
    "df_merge=df_merge.set_index('Date')\n",
    "df_merge=df_merge.sort_index()\n",
    "df_merge[\"Return\"]=df_merge[\"Close\"].pct_change(1)\n",
    "df_merge=df_merge.dropna()\n",
    "df_merge[\"Y\"]=np.where(df_merge[\"Return\"]>0,1, 0)"
   ]
  },
  {
   "cell_type": "code",
   "execution_count": 60,
   "metadata": {},
   "outputs": [
    {
     "name": "stdout",
     "output_type": "stream",
     "text": [
      "ADF Statistic: 4.070488050586638\n",
      "p-value: 1.0\n",
      "Critical Values:\n",
      "1%, -3.435170967430817\n",
      "Critical Values:\n",
      "5%, -2.8636690928667523\n",
      "Critical Values:\n",
      "10%, -2.5679035297726274\n"
     ]
    }
   ],
   "source": [
    "from statsmodels.tsa.stattools import adfuller\n",
    "result = adfuller(df_merge.Close.values, autolag='AIC')\n",
    "print(f'ADF Statistic: {result[0]}')\n",
    "print(f'p-value: {result[1]}')\n",
    "for key, value in result[4].items():\n",
    "    print(\"Critical Values:\")\n",
    "    print(f'{key}, {value}')"
   ]
  },
  {
   "cell_type": "code",
   "execution_count": 63,
   "metadata": {},
   "outputs": [
    {
     "data": {
      "image/png": "[encoded data removed]",
      "text/plain": [
       "<Figure size 432x288 with 1 Axes>"
      ]
     },
     "metadata": {
      "needs_background": "light"
     },
     "output_type": "display_data"
    },
    {
     "data": {
      "image/png": "[encoded data removed]",
      "text/plain": [
       "<Figure size 432x288 with 1 Axes>"
      ]
     },
     "metadata": {
      "needs_background": "light"
     },
     "output_type": "display_data"
    }
   ],
   "source": [
    "X = df_merge[['sentiment','subjectivity','Num Replies']]\n",
    "y = df_merge[['Close']]\n",
    "\n",
    "\n",
    "X_train, y_train= X['2017-01-01':'2020-01-01'],y['2017-01-01':'2020-01-01']\n",
    "X_test, y_test= X['2020-01-02':],y['2020-01-02':]\n",
    "\n",
    "plot_pacf(y_train.Close.diff().dropna())\n",
    "plot_acf(y_train.Close.diff().dropna())\n",
    "plt.show()"
   ]
  },
  {
   "cell_type": "code",
   "execution_count": 64,
   "metadata": {},
   "outputs": [
    {
     "name": "stdout",
     "output_type": "stream",
     "text": [
      "                             ARIMA Model Results                              \n",
      "==============================================================================\n",
      "Dep. Variable:                D.Close   No. Observations:                  928\n",
      "Model:                 ARIMA(1, 1, 1)   Log Likelihood               -7262.598\n",
      "Method:                       css-mle   S.D. of innovations            606.153\n",
      "Date:                Sat, 24 Apr 2021   AIC                          14539.196\n",
      "Time:                        11:30:12   BIC                          14573.027\n",
      "Sample:                             1   HQIC                         14552.100\n",
      "                                                                              \n",
      "=================================================================================\n",
      "                    coef    std err          z      P>|z|      [0.025      0.975]\n",
      "---------------------------------------------------------------------------------\n",
      "const          -676.2646    318.653     -2.122      0.034   -1300.813     -51.716\n",
      "sentiment      1716.5937   1590.304      1.079      0.280   -1400.344    4833.532\n",
      "subjectivity   2250.2266   1094.312      2.056      0.040     105.414    4395.040\n",
      "Num Replies     -14.7012     19.647     -0.748      0.454     -53.209      23.806\n",
      "ar.L1.D.Close    -0.5048      0.226     -2.238      0.025      -0.947      -0.063\n",
      "ma.L1.D.Close     0.5693      0.214      2.662      0.008       0.150       0.989\n",
      "                                    Roots                                    \n",
      "=============================================================================\n",
      "                  Real          Imaginary           Modulus         Frequency\n",
      "-----------------------------------------------------------------------------\n",
      "AR.1           -1.9811           +0.0000j            1.9811            0.5000\n",
      "MA.1           -1.7564           +0.0000j            1.7564            0.5000\n",
      "-----------------------------------------------------------------------------\n"
     ]
    }
   ],
   "source": [
    "model3=sm.tsa.ARIMA(endog=y_train,exog=X_train,order=[1,1,1])\n",
    "results3=model3.fit(disp=-1)\n",
    "print(results3.summary())"
   ]
  },
  {
   "cell_type": "code",
   "execution_count": 95,
   "metadata": {},
   "outputs": [
    {
     "data": {
      "image/png": "[encoded data removed]",
      "text/plain": [
       "<Figure size 1200x500 with 1 Axes>"
      ]
     },
     "metadata": {
      "needs_background": "light"
     },
     "output_type": "display_data"
    }
   ],
   "source": [
    "bitcoin=bitcoin.set_index('Date')\n",
    "Y=bitcoin.loc[: \"2020-01-01\",:]\n",
    "\n",
    "fc, se, conf = results3.forecast(exog = X_test,steps=len(X_test),alpha=0.05)\n",
    "fc_series = pd.Series(fc, index=X_test.index)\n",
    "lower_series = pd.Series(conf[:, 0], index=X_test.index)\n",
    "upper_series = pd.Series(conf[:, 1], index=X_test.index)\n",
    "\n",
    "\n",
    "plt.figure(figsize=(12,5), dpi=100)\n",
    "plt.plot(Y[\"Close\"], label=\"training\")\n",
    "plt.plot(y_test, label=\"actual\")\n",
    "plt.plot(fc_series, label=\"forecast\")\n",
    "plt.fill_between(lower_series.index, lower_series, upper_series,color=\"k\", alpha=.15)\n",
    "plt.title(\"Forecast vs Actuals\")\n",
    "plt.legend(loc=\"upper left\", fontsize=8)\n",
    "plt.show()"
   ]
  },
  {
   "cell_type": "code",
   "execution_count": 137,
   "metadata": {},
   "outputs": [],
   "source": [
    "forecast=pd.DataFrame(fc_series)\n",
    "forecast = forecast.rename(columns={0: 'Forecast'})\n",
    "# bitcoin=bitcoin.set_index('Date')\n",
    "forecast_merge=bitcoin.merge(forecast, how='outer', left_index=True, right_index=True)\n",
    "forecast_merge.to_csv(\"Forecasted_data.csv\")"
   ]
  },
  {
   "cell_type": "code",
   "execution_count": 107,
   "metadata": {},
   "outputs": [],
   "source": [
    "X = df_merge[['sentiment','subjectivity','Num Replies']]\n",
    "y = df_merge['Y']\n",
    "\n",
    "X_train, y_train= X['2017-01-01':'2020-01-01'],y['2017-01-01':'2020-01-01']\n",
    "X_test, y_test= X['2020-01-02':],y['2020-01-02':]"
   ]
  },
  {
   "cell_type": "code",
   "execution_count": 136,
   "metadata": {},
   "outputs": [
    {
     "name": "stdout",
     "output_type": "stream",
     "text": [
      "{'C': 0.01, 'kernel': 'linear'} {'max_depth': 2, 'n_estimators': 100} {'C': 0.01, 'penalty': 'l2'}\n"
     ]
    }
   ],
   "source": [
    "#Hyper Parameter Tuning\n",
    "from sklearn.model_selection import cross_val_score, GridSearchCV, cross_validate, train_test_split\n",
    "\n",
    "svm_parameters = {'kernel':('linear', 'rbf'), 'C':[0.01, 0.1, 1.0]}\n",
    "svm_hp = SVC(gamma = 'auto')\n",
    "svm_cv = GridSearchCV(svm_hp, svm_parameters, n_jobs = -1,return_train_score = True)\n",
    "svm_cv.fit(X_train, y_train)\n",
    "\n",
    "forest_clf = RandomForestClassifier(random_state=42)\n",
    "grid = { 'n_estimators':[4, 16, 50,100, 256],'max_depth': [2, 8, 16,30]}\n",
    "clf = GridSearchCV(forest_clf, param_grid=grid)\n",
    "gscv_rfc = clf.fit(X_train, y_train)\n",
    "\n",
    "grid={\"C\":np.logspace(-3,3,7), \"penalty\":[\"l1\",\"l2\"]}\n",
    "logreg=LogisticRegression()\n",
    "logreg_cv=GridSearchCV(logreg,grid,cv=10)\n",
    "logreg_cv.fit(X_train,y_train)\n",
    "\n",
    "\n",
    "print(svm_cv.best_params_, gscv_rfc.best_params_,logreg_cv.best_params_)"
   ]
  },
  {
   "cell_type": "code",
   "execution_count": 125,
   "metadata": {},
   "outputs": [],
   "source": [
    "knn_clf = KNeighborsClassifier()\n",
    "forest_clf = RandomForestClassifier(n_estimators=100, max_depth= 2, random_state=42)\n",
    "logistic_clf = linear_model.LogisticRegression(solver='liblinear',C= 0.01, penalty= 'l2')\n",
    "svm_clf = SVC(gamma=\"auto\",probability=True, C=0.01, kernel='linear' )\n",
    "dectree_clf = DecisionTreeClassifier(criterion='entropy', min_samples_leaf=100)\n",
    "gradboost_clf = GradientBoostingClassifier(n_estimators=100, learning_rate=1.0, max_depth=10, random_state=0)\n",
    "\n",
    "clfs = {\n",
    "'Logistic Regression' : logistic_clf,\n",
    "'Random Forest': forest_clf,\n",
    "'Gradient Boosting': gradboost_clf, \n",
    "'KNN': knn_clf,\n",
    "'Decision Tree': dectree_clf,   \n",
    "'SVM': svm_clf,\n",
    "}"
   ]
  },
  {
   "cell_type": "code",
   "execution_count": 126,
   "metadata": {},
   "outputs": [
    {
     "name": "stdout",
     "output_type": "stream",
     "text": [
      "Baseline Model:3 predictors used\n"
     ]
    },
    {
     "data": {
      "text/html": [
       "<div>\n",
       "<style scoped>\n",
       "    .dataframe tbody tr th:only-of-type {\n",
       "        vertical-align: middle;\n",
       "    }\n",
       "\n",
       "    .dataframe tbody tr th {\n",
       "        vertical-align: top;\n",
       "    }\n",
       "\n",
       "    .dataframe thead th {\n",
       "        text-align: right;\n",
       "    }\n",
       "</style>\n",
       "<table border=\"1\" class=\"dataframe\">\n",
       "  <thead>\n",
       "    <tr style=\"text-align: right;\">\n",
       "      <th></th>\n",
       "      <th>Model</th>\n",
       "      <th>CV(5)</th>\n",
       "      <th>Accuracy</th>\n",
       "      <th>Precision_score</th>\n",
       "      <th>Recall_score</th>\n",
       "      <th>F1_score</th>\n",
       "    </tr>\n",
       "  </thead>\n",
       "  <tbody>\n",
       "    <tr>\n",
       "      <th>0</th>\n",
       "      <td>Logistic Regression</td>\n",
       "      <td>0.540366</td>\n",
       "      <td>0.562780</td>\n",
       "      <td>0.562780</td>\n",
       "      <td>1.000000</td>\n",
       "      <td>0.720230</td>\n",
       "    </tr>\n",
       "    <tr>\n",
       "      <th>1</th>\n",
       "      <td>Random Forest</td>\n",
       "      <td>0.529590</td>\n",
       "      <td>0.511211</td>\n",
       "      <td>0.540943</td>\n",
       "      <td>0.868526</td>\n",
       "      <td>0.666667</td>\n",
       "    </tr>\n",
       "    <tr>\n",
       "      <th>2</th>\n",
       "      <td>Gradient Boosting</td>\n",
       "      <td>0.504813</td>\n",
       "      <td>0.504484</td>\n",
       "      <td>0.560976</td>\n",
       "      <td>0.549801</td>\n",
       "      <td>0.555332</td>\n",
       "    </tr>\n",
       "    <tr>\n",
       "      <th>3</th>\n",
       "      <td>KNN</td>\n",
       "      <td>0.522005</td>\n",
       "      <td>0.538117</td>\n",
       "      <td>0.585551</td>\n",
       "      <td>0.613546</td>\n",
       "      <td>0.599222</td>\n",
       "    </tr>\n",
       "    <tr>\n",
       "      <th>4</th>\n",
       "      <td>Decision Tree</td>\n",
       "      <td>0.472531</td>\n",
       "      <td>0.506726</td>\n",
       "      <td>0.565401</td>\n",
       "      <td>0.533865</td>\n",
       "      <td>0.549180</td>\n",
       "    </tr>\n",
       "    <tr>\n",
       "      <th>5</th>\n",
       "      <td>SVM</td>\n",
       "      <td>0.540366</td>\n",
       "      <td>0.562780</td>\n",
       "      <td>0.562780</td>\n",
       "      <td>1.000000</td>\n",
       "      <td>0.720230</td>\n",
       "    </tr>\n",
       "  </tbody>\n",
       "</table>\n",
       "</div>"
      ],
      "text/plain": [
       "                 Model     CV(5)  Accuracy  Precision_score  Recall_score  \\\n",
       "0  Logistic Regression  0.540366  0.562780         0.562780      1.000000   \n",
       "1        Random Forest  0.529590  0.511211         0.540943      0.868526   \n",
       "2    Gradient Boosting  0.504813  0.504484         0.560976      0.549801   \n",
       "3                  KNN  0.522005  0.538117         0.585551      0.613546   \n",
       "4        Decision Tree  0.472531  0.506726         0.565401      0.533865   \n",
       "5                  SVM  0.540366  0.562780         0.562780      1.000000   \n",
       "\n",
       "   F1_score  \n",
       "0  0.720230  \n",
       "1  0.666667  \n",
       "2  0.555332  \n",
       "3  0.599222  \n",
       "4  0.549180  \n",
       "5  0.720230  "
      ]
     },
     "execution_count": 126,
     "metadata": {},
     "output_type": "execute_result"
    }
   ],
   "source": [
    "Results_BL = pd.DataFrame(columns = ['Model', 'CV(5)', 'Accuracy', 'Precision_score', 'Recall_score','F1_score'])\n",
    "y_pred_list=[]\n",
    "for model, model_name in zip(clfs.values(), clfs.keys()):\n",
    "    model.fit(X_train, y_train)\n",
    "    y_pred = model.predict(X_test)\n",
    "    y_score= model.predict_proba(X_test)[:,1]\n",
    "    Score= cross_val_score(model, X_train, y_train, cv=5).mean()\n",
    "\n",
    "    t = pd.Series({ \n",
    "                     'Model': model_name,\n",
    "                     'CV(5)': Score,\n",
    "                     'Accuracy': metrics.accuracy_score(y_test, y_pred),\n",
    "                     'Precision_score': metrics.precision_score(y_test, y_pred),\n",
    "                     'Recall_score': metrics.recall_score(y_test, y_pred),                    \n",
    "                     'F1_score': metrics.f1_score(y_test, y_pred)\n",
    "                 })\n",
    "\n",
    "    y_pred_list.append(y_pred)\n",
    "    Results_BL = Results_BL.append(t,ignore_index = True)\n",
    "\n",
    "print('Baseline Model:{} predictors used'.format(X_train.shape[1]))\n",
    "Results_BL"
   ]
  },
  {
   "cell_type": "code",
   "execution_count": 129,
   "metadata": {},
   "outputs": [],
   "source": [
    "import itertools\n",
    "def plot_confusion_matrix(cm, classes,\n",
    "                          normalize=False,\n",
    "                          title='Confusion matrix',\n",
    "                          cmap=plt.cm.Blues):\n",
    "    if normalize:\n",
    "        # Normalize by row sums\n",
    "        cm_pct = cm.astype('float') / cm.sum(axis=1)[:, np.newaxis]\n",
    "        cm = np.around( 100 * cm_pct, decimals=0).astype(int)\n",
    "        \n",
    "        print(\"Normalized confusion matrix\")\n",
    "    else:\n",
    "        print('Confusion matrix, without normalization')\n",
    "\n",
    "    plt.imshow(cm, interpolation='nearest', cmap=cmap)\n",
    "    plt.title(title)\n",
    "    plt.colorbar()\n",
    "    tick_marks = np.arange(len(classes))\n",
    "    plt.xticks(tick_marks, classes, rotation=45)\n",
    "    plt.yticks(tick_marks, classes)\n",
    "\n",
    "    fmt = '.2f' if normalize else 'd'\n",
    "    fmt = 'd'\n",
    "    thresh = cm.max() / 2.\n",
    "    for i, j in itertools.product(range(cm.shape[0]), range(cm.shape[1])):\n",
    "        plt.text(j, i, format(cm[i, j], fmt),\n",
    "                 horizontalalignment=\"center\",\n",
    "                 color=\"white\" if cm[i, j] > thresh else \"black\")\n",
    "\n",
    "    plt.ylabel('True label')\n",
    "    plt.xlabel('Predicted label')\n",
    "    plt.tight_layout()"
   ]
  },
  {
   "cell_type": "code",
   "execution_count": 130,
   "metadata": {},
   "outputs": [
    {
     "name": "stdout",
     "output_type": "stream",
     "text": [
      "Confusion matrix, without normalization\n"
     ]
    },
    {
     "data": {
      "image/png": "[encoded data removed]",
      "text/plain": [
       "<Figure size 432x288 with 2 Axes>"
      ]
     },
     "metadata": {
      "needs_background": "light"
     },
     "output_type": "display_data"
    }
   ],
   "source": [
    "confusion_mat_bl = metrics.confusion_matrix(y_test, y_pred_list[0])\n",
    "plot_confusion_matrix(confusion_mat_bl, range(2), normalize=False,  title='Confusion matrix for Logistic Regression')"
   ]
  },
  {
   "cell_type": "code",
   "execution_count": 131,
   "metadata": {},
   "outputs": [
    {
     "name": "stdout",
     "output_type": "stream",
     "text": [
      "Confusion matrix, without normalization\n"
     ]
    },
    {
     "data": {
      "image/png": "[encoded data removed]",
      "text/plain": [
       "<Figure size 432x288 with 2 Axes>"
      ]
     },
     "metadata": {
      "needs_background": "light"
     },
     "output_type": "display_data"
    }
   ],
   "source": [
    "confusion_mat_bl = metrics.confusion_matrix(y_test, y_pred_list[1])\n",
    "plot_confusion_matrix(confusion_mat_bl, range(2), normalize=False,  title='Confusion matrix for Random Forest')"
   ]
  },
  {
   "cell_type": "code",
   "execution_count": 132,
   "metadata": {},
   "outputs": [
    {
     "name": "stdout",
     "output_type": "stream",
     "text": [
      "Confusion matrix, without normalization\n"
     ]
    },
    {
     "data": {
      "image/png": "[encoded data removed]",
      "text/plain": [
       "<Figure size 432x288 with 2 Axes>"
      ]
     },
     "metadata": {
      "needs_background": "light"
     },
     "output_type": "display_data"
    }
   ],
   "source": [
    "confusion_mat_bl = metrics.confusion_matrix(y_test, y_pred_list[2])\n",
    "plot_confusion_matrix(confusion_mat_bl, range(2), normalize=False,  title='Confusion matrix for Gradient Boosting')"
   ]
  },
  {
   "cell_type": "code",
   "execution_count": 133,
   "metadata": {},
   "outputs": [
    {
     "name": "stdout",
     "output_type": "stream",
     "text": [
      "Confusion matrix, without normalization\n"
     ]
    },
    {
     "data": {
      "image/png": "[encoded data removed]",
      "text/plain": [
       "<Figure size 432x288 with 2 Axes>"
      ]
     },
     "metadata": {
      "needs_background": "light"
     },
     "output_type": "display_data"
    }
   ],
   "source": [
    "confusion_mat_bl = metrics.confusion_matrix(y_test, y_pred_list[3])\n",
    "plot_confusion_matrix(confusion_mat_bl, range(2), normalize=False,  title='Confusion matrix for KNN')"
   ]
  },
  {
   "cell_type": "code",
   "execution_count": 134,
   "metadata": {},
   "outputs": [
    {
     "name": "stdout",
     "output_type": "stream",
     "text": [
      "Confusion matrix, without normalization\n"
     ]
    },
    {
     "data": {
      "image/png": "[encoded data removed]",
      "text/plain": [
       "<Figure size 432x288 with 2 Axes>"
      ]
     },
     "metadata": {
      "needs_background": "light"
     },
     "output_type": "display_data"
    }
   ],
   "source": [
    "confusion_mat_bl = metrics.confusion_matrix(y_test, y_pred_list[5])\n",
    "plot_confusion_matrix(confusion_mat_bl, range(2), normalize=False,  title='Confusion matrix for SVM')"
   ]
  },
  {
   "cell_type": "code",
   "execution_count": 135,
   "metadata": {},
   "outputs": [],
   "source": [
    "y_pred_list.append(y_test)\n",
    "new_df=pd.DataFrame(np.vstack(y_pred_list)).T\n",
    "new_df=new_df.rename(columns={0: 'Logistic Regression',1: 'Random Forest',2: 'Gradient Boosting',3: 'KNN',4: 'Decision Tree',5: 'SVM',6: 'Actual Y'})\n",
    "new_df.index=y_test.index\n",
    "new_df=new_df.merge(df_merge[['Return']], how='inner',left_index=True, right_index=True)\n",
    "new_df.to_csv(\"Results.csv\")"
   ]
  },
  {
   "cell_type": "code",
   "execution_count": null,
   "metadata": {},
   "outputs": [],
   "source": []
  }
 ],
 "metadata": {
  "kernelspec": {
   "display_name": "Python 3",
   "language": "python",
   "name": "python3"
  },
  "language_info": {
   "codemirror_mode": {
    "name": "ipython",
    "version": 3
   },
   "file_extension": ".py",
   "mimetype": "text/x-python",
   "name": "python",
   "nbconvert_exporter": "python",
   "pygments_lexer": "ipython3",
   "version": "3.7.10"
  }
 },
 "nbformat": 4,
 "nbformat_minor": 4
}
