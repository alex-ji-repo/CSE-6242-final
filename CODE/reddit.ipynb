{
 "cells": [
  {
   "cell_type": "code",
   "execution_count": 3,
   "metadata": {},
   "outputs": [],
   "source": [
    "import pandas as pd\n",
    "import http.client\n",
    "import json\n",
    "import csv\n",
    "import os\n",
    "from textblob import TextBlob\n",
    "import numpy as np\n",
    "import time\n",
    "import gc\n",
    "import random\n",
    "from sklearn.model_selection import cross_val_score, GridSearchCV, cross_validate, train_test_split\n",
    "from sklearn.metrics import accuracy_score, classification_report\n",
    "from sklearn.svm import SVC\n",
    "from sklearn.linear_model import LinearRegression\n",
    "from sklearn.neural_network import MLPClassifier\n",
    "from sklearn.ensemble import RandomForestClassifier\n",
    "from sklearn.preprocessing import StandardScaler, normalize\n",
    "from sklearn.decomposition import PCA\n",
    "from sklearn.impute import SimpleImputer"
   ]
  },
  {
   "cell_type": "code",
   "execution_count": 4,
   "metadata": {},
   "outputs": [],
   "source": [
    "def get_sentiment(text):\n",
    "    sentDict = {}\n",
    "    doc = TextBlob(text)\n",
    "    sentDict['polarity'] = doc.sentiment.polarity\n",
    "    sentDict['subjectivity'] = doc.sentiment.subjectivity\n",
    "    return sentDict"
   ]
  },
  {
   "cell_type": "code",
   "execution_count": 5,
   "metadata": {},
   "outputs": [],
   "source": [
    "post14 = pd.read_json(\"/Users/jonhuaqin/Downloads/Reddit/post2014.txt\")\n",
    "post15 = pd.read_json(\"/Users/jonhuaqin/Downloads/Reddit/post2015.txt\")\n",
    "post16 = pd.read_json(\"/Users/jonhuaqin/Downloads/Reddit/post2016.txt\")\n",
    "post17 = pd.read_json(\"/Users/jonhuaqin/Downloads/Reddit/post2017.txt\")\n",
    "post18 = pd.read_json(\"/Users/jonhuaqin/Downloads/Reddit/post2018.txt\")\n",
    "post19 = pd.read_json(\"/Users/jonhuaqin/Downloads/Reddit/post2019.txt\")\n",
    "post20 = pd.read_json(\"/Users/jonhuaqin/Downloads/Reddit/post2020.txt\")\n",
    "post21 = pd.read_json(\"/Users/jonhuaqin/Downloads/Reddit/post2021.txt\")\n",
    "frames = [post14,post15,post16,post17,post18,post19,post20,post21]\n",
    "post = pd.concat(frames)"
   ]
  },
  {
   "cell_type": "code",
   "execution_count": 6,
   "metadata": {},
   "outputs": [],
   "source": [
    "post['created_utc'] = pd.to_datetime(post['created_utc'])"
   ]
  },
  {
   "cell_type": "code",
   "execution_count": 7,
   "metadata": {},
   "outputs": [
    {
     "name": "stdout",
     "output_type": "stream",
     "text": [
      "<class 'pandas.core.frame.DataFrame'>\n",
      "Int64Index: 844931 entries, 0 to 47199\n",
      "Data columns (total 10 columns):\n",
      "created_utc              844931 non-null datetime64[ns]\n",
      "submissionID             844931 non-null object\n",
      "full_link                844931 non-null object\n",
      "author                   844931 non-null object\n",
      "author_flair_richtext    844931 non-null object\n",
      "num_comments             844931 non-null int64\n",
      "score                    844931 non-null int64\n",
      "title                    844931 non-null object\n",
      "selftext                 844931 non-null object\n",
      "link                     844931 non-null object\n",
      "dtypes: datetime64[ns](1), int64(2), object(7)\n",
      "memory usage: 70.9+ MB\n"
     ]
    }
   ],
   "source": [
    "post.info()"
   ]
  },
  {
   "cell_type": "code",
   "execution_count": 9,
   "metadata": {},
   "outputs": [
    {
     "data": {
      "text/html": [
       "<div>\n",
       "<style scoped>\n",
       "    .dataframe tbody tr th:only-of-type {\n",
       "        vertical-align: middle;\n",
       "    }\n",
       "\n",
       "    .dataframe tbody tr th {\n",
       "        vertical-align: top;\n",
       "    }\n",
       "\n",
       "    .dataframe thead th {\n",
       "        text-align: right;\n",
       "    }\n",
       "</style>\n",
       "<table border=\"1\" class=\"dataframe\">\n",
       "  <thead>\n",
       "    <tr style=\"text-align: right;\">\n",
       "      <th></th>\n",
       "      <th>created_utc</th>\n",
       "      <th>submissionID</th>\n",
       "      <th>full_link</th>\n",
       "      <th>author</th>\n",
       "      <th>author_flair_richtext</th>\n",
       "      <th>num_comments</th>\n",
       "      <th>score</th>\n",
       "      <th>title</th>\n",
       "      <th>selftext</th>\n",
       "      <th>link</th>\n",
       "    </tr>\n",
       "  </thead>\n",
       "  <tbody>\n",
       "    <tr>\n",
       "      <td>0</td>\n",
       "      <td>2014-12-31</td>\n",
       "      <td>2qzjqr</td>\n",
       "      <td></td>\n",
       "      <td>livebitcoinnews</td>\n",
       "      <td></td>\n",
       "      <td>0</td>\n",
       "      <td>1</td>\n",
       "      <td>CheapAir now Taking over Bitcoin, Dogecoin and...</td>\n",
       "      <td></td>\n",
       "      <td>https://www.reddit.com/r/Bitcoin/comments/2qzj...</td>\n",
       "    </tr>\n",
       "    <tr>\n",
       "      <td>1</td>\n",
       "      <td>2014-12-31</td>\n",
       "      <td>2qziky</td>\n",
       "      <td></td>\n",
       "      <td>BitStashCTO</td>\n",
       "      <td></td>\n",
       "      <td>6</td>\n",
       "      <td>30</td>\n",
       "      <td>If ever Bitcoin had a use case, Venezuela is it !</td>\n",
       "      <td></td>\n",
       "      <td>https://www.reddit.com/r/Bitcoin/comments/2qzi...</td>\n",
       "    </tr>\n",
       "    <tr>\n",
       "      <td>2</td>\n",
       "      <td>2014-12-31</td>\n",
       "      <td>2qziao</td>\n",
       "      <td></td>\n",
       "      <td>SThist</td>\n",
       "      <td></td>\n",
       "      <td>11</td>\n",
       "      <td>134</td>\n",
       "      <td>Police suspect only 1 percent taken by Mt. Gox...</td>\n",
       "      <td></td>\n",
       "      <td>https://www.reddit.com/r/Bitcoin/comments/2qzi...</td>\n",
       "    </tr>\n",
       "    <tr>\n",
       "      <td>3</td>\n",
       "      <td>2014-12-31</td>\n",
       "      <td>2qzhov</td>\n",
       "      <td></td>\n",
       "      <td>bitsforall</td>\n",
       "      <td></td>\n",
       "      <td>1</td>\n",
       "      <td>0</td>\n",
       "      <td>2015 - WTF - Ben Lawsky did you miss your own ...</td>\n",
       "      <td></td>\n",
       "      <td>https://www.reddit.com/r/Bitcoin/comments/2qzh...</td>\n",
       "    </tr>\n",
       "    <tr>\n",
       "      <td>4</td>\n",
       "      <td>2014-12-31</td>\n",
       "      <td>2qzh5h</td>\n",
       "      <td></td>\n",
       "      <td>bittopia</td>\n",
       "      <td></td>\n",
       "      <td>27</td>\n",
       "      <td>33</td>\n",
       "      <td>Do you guys stash dummy BTC wallets everywhere...</td>\n",
       "      <td>I have 10 wallets on a few PCs and mobile devi...</td>\n",
       "      <td>https://www.reddit.com/r/Bitcoin/comments/2qzh...</td>\n",
       "    </tr>\n",
       "  </tbody>\n",
       "</table>\n",
       "</div>"
      ],
      "text/plain": [
       "  created_utc submissionID full_link           author author_flair_richtext  \\\n",
       "0  2014-12-31       2qzjqr            livebitcoinnews                         \n",
       "1  2014-12-31       2qziky                BitStashCTO                         \n",
       "2  2014-12-31       2qziao                     SThist                         \n",
       "3  2014-12-31       2qzhov                 bitsforall                         \n",
       "4  2014-12-31       2qzh5h                   bittopia                         \n",
       "\n",
       "   num_comments  score                                              title  \\\n",
       "0             0      1  CheapAir now Taking over Bitcoin, Dogecoin and...   \n",
       "1             6     30  If ever Bitcoin had a use case, Venezuela is it !   \n",
       "2            11    134  Police suspect only 1 percent taken by Mt. Gox...   \n",
       "3             1      0  2015 - WTF - Ben Lawsky did you miss your own ...   \n",
       "4            27     33  Do you guys stash dummy BTC wallets everywhere...   \n",
       "\n",
       "                                            selftext  \\\n",
       "0                                                      \n",
       "1                                                      \n",
       "2                                                      \n",
       "3                                                      \n",
       "4  I have 10 wallets on a few PCs and mobile devi...   \n",
       "\n",
       "                                                link  \n",
       "0  https://www.reddit.com/r/Bitcoin/comments/2qzj...  \n",
       "1  https://www.reddit.com/r/Bitcoin/comments/2qzi...  \n",
       "2  https://www.reddit.com/r/Bitcoin/comments/2qzi...  \n",
       "3  https://www.reddit.com/r/Bitcoin/comments/2qzh...  \n",
       "4  https://www.reddit.com/r/Bitcoin/comments/2qzh...  "
      ]
     },
     "execution_count": 9,
     "metadata": {},
     "output_type": "execute_result"
    }
   ],
   "source": [
    "post.head()"
   ]
  },
  {
   "cell_type": "code",
   "execution_count": 10,
   "metadata": {},
   "outputs": [
    {
     "name": "stderr",
     "output_type": "stream",
     "text": [
      "/Users/jonhuaqin/opt/anaconda3/lib/python3.7/site-packages/ipykernel_launcher.py:10: FutureWarning: Sorting because non-concatenation axis is not aligned. A future version\n",
      "of pandas will change to not sort by default.\n",
      "\n",
      "To accept the future behavior, pass 'sort=False'.\n",
      "\n",
      "To retain the current behavior and silence the warning, pass 'sort=True'.\n",
      "\n",
      "  # Remove the CWD from sys.path while we load stuff.\n"
     ]
    }
   ],
   "source": [
    "comment14 = pd.read_json(\"/Users/jonhuaqin/Downloads/Reddit/comments2014.txt\")\n",
    "comment15 = pd.read_json(\"/Users/jonhuaqin/Downloads/Reddit/comments2015.txt\")\n",
    "comment16 = pd.read_json(\"/Users/jonhuaqin/Downloads/Reddit/comments2016.txt\")\n",
    "comment17 = pd.read_json(\"/Users/jonhuaqin/Downloads/Reddit/comments2017.txt\")\n",
    "comment18 = pd.read_json(\"/Users/jonhuaqin/Downloads/Reddit/comments2018.txt\")\n",
    "comment19 = pd.read_json(\"/Users/jonhuaqin/Downloads/Reddit/comments2019.txt\")\n",
    "comment20 = pd.read_json(\"/Users/jonhuaqin/Downloads/Reddit/comments2020.txt\")\n",
    "comment21 = pd.read_json(\"/Users/jonhuaqin/Downloads/Reddit/comments2021.txt\")\n",
    "frames = [comment14,comment15,comment16,comment17,comment18,comment19,comment20,comment21]\n",
    "comment = pd.concat(frames)"
   ]
  },
  {
   "cell_type": "code",
   "execution_count": 11,
   "metadata": {},
   "outputs": [],
   "source": [
    "comment['created_utc'] = pd.to_datetime(comment['created_utc'])\n",
    "comment[\"post_id\"] = comment[\"link_id\"].str.split(\"_\").str[-1]"
   ]
  },
  {
   "cell_type": "code",
   "execution_count": 12,
   "metadata": {},
   "outputs": [
    {
     "name": "stdout",
     "output_type": "stream",
     "text": [
      "<class 'pandas.core.frame.DataFrame'>\n",
      "Int64Index: 2154200 entries, 0 to 62299\n",
      "Data columns (total 12 columns):\n",
      "author                   object\n",
      "author_flair_richtext    object\n",
      "body                     object\n",
      "commentID                object\n",
      "created_utc              datetime64[ns]\n",
      "is_submitier             object\n",
      "is_submitter             object\n",
      "link                     object\n",
      "link_id                  object\n",
      "parent_id                object\n",
      "score                    int64\n",
      "post_id                  object\n",
      "dtypes: datetime64[ns](1), int64(1), object(10)\n",
      "memory usage: 213.7+ MB\n"
     ]
    }
   ],
   "source": [
    "comment.info()"
   ]
  },
  {
   "cell_type": "code",
   "execution_count": 13,
   "metadata": {},
   "outputs": [
    {
     "data": {
      "text/html": [
       "<div>\n",
       "<style scoped>\n",
       "    .dataframe tbody tr th:only-of-type {\n",
       "        vertical-align: middle;\n",
       "    }\n",
       "\n",
       "    .dataframe tbody tr th {\n",
       "        vertical-align: top;\n",
       "    }\n",
       "\n",
       "    .dataframe thead th {\n",
       "        text-align: right;\n",
       "    }\n",
       "</style>\n",
       "<table border=\"1\" class=\"dataframe\">\n",
       "  <thead>\n",
       "    <tr style=\"text-align: right;\">\n",
       "      <th></th>\n",
       "      <th>author</th>\n",
       "      <th>author_flair_richtext</th>\n",
       "      <th>body</th>\n",
       "      <th>commentID</th>\n",
       "      <th>created_utc</th>\n",
       "      <th>is_submitier</th>\n",
       "      <th>is_submitter</th>\n",
       "      <th>link</th>\n",
       "      <th>link_id</th>\n",
       "      <th>parent_id</th>\n",
       "      <th>score</th>\n",
       "      <th>post_id</th>\n",
       "    </tr>\n",
       "  </thead>\n",
       "  <tbody>\n",
       "    <tr>\n",
       "      <td>0</td>\n",
       "      <td>statoshi</td>\n",
       "      <td></td>\n",
       "      <td>The direct incentive is to have your own trust...</td>\n",
       "      <td>cnaz5kk</td>\n",
       "      <td>2014-12-31</td>\n",
       "      <td>NaN</td>\n",
       "      <td></td>\n",
       "      <td></td>\n",
       "      <td>t3_2qygsn</td>\n",
       "      <td>t1_cnas5eg</td>\n",
       "      <td>8</td>\n",
       "      <td>2qygsn</td>\n",
       "    </tr>\n",
       "    <tr>\n",
       "      <td>1</td>\n",
       "      <td>throughnothing</td>\n",
       "      <td></td>\n",
       "      <td>Though as hardware wallets go, ledger has some...</td>\n",
       "      <td>cnaz3u1</td>\n",
       "      <td>2014-12-31</td>\n",
       "      <td>NaN</td>\n",
       "      <td></td>\n",
       "      <td></td>\n",
       "      <td>t3_2qxrnx</td>\n",
       "      <td>t1_cnaobhk</td>\n",
       "      <td>0</td>\n",
       "      <td>2qxrnx</td>\n",
       "    </tr>\n",
       "    <tr>\n",
       "      <td>2</td>\n",
       "      <td>empraptor</td>\n",
       "      <td></td>\n",
       "      <td>I guess that's true in a sense.\\n\\nIt's just t...</td>\n",
       "      <td>cnaz3sc</td>\n",
       "      <td>2014-12-31</td>\n",
       "      <td>NaN</td>\n",
       "      <td></td>\n",
       "      <td></td>\n",
       "      <td>t3_2qx1sz</td>\n",
       "      <td>t1_cnad60o</td>\n",
       "      <td>1</td>\n",
       "      <td>2qx1sz</td>\n",
       "    </tr>\n",
       "    <tr>\n",
       "      <td>3</td>\n",
       "      <td>tulipfutures</td>\n",
       "      <td></td>\n",
       "      <td>Or you'll realize, perhaps in another year, th...</td>\n",
       "      <td>cnaz3s1</td>\n",
       "      <td>2014-12-31</td>\n",
       "      <td>NaN</td>\n",
       "      <td></td>\n",
       "      <td></td>\n",
       "      <td>t3_2qze2q</td>\n",
       "      <td>t1_cnayywz</td>\n",
       "      <td>-16</td>\n",
       "      <td>2qze2q</td>\n",
       "    </tr>\n",
       "    <tr>\n",
       "      <td>4</td>\n",
       "      <td>odal_limbs</td>\n",
       "      <td></td>\n",
       "      <td>For me, 2014 was the year where the idea that ...</td>\n",
       "      <td>cnaz3mm</td>\n",
       "      <td>2014-12-31</td>\n",
       "      <td>NaN</td>\n",
       "      <td></td>\n",
       "      <td></td>\n",
       "      <td>t3_2qz6vb</td>\n",
       "      <td>t1_cnayo12</td>\n",
       "      <td>10</td>\n",
       "      <td>2qz6vb</td>\n",
       "    </tr>\n",
       "  </tbody>\n",
       "</table>\n",
       "</div>"
      ],
      "text/plain": [
       "           author author_flair_richtext  \\\n",
       "0        statoshi                         \n",
       "1  throughnothing                         \n",
       "2       empraptor                         \n",
       "3    tulipfutures                         \n",
       "4      odal_limbs                         \n",
       "\n",
       "                                                body commentID created_utc  \\\n",
       "0  The direct incentive is to have your own trust...   cnaz5kk  2014-12-31   \n",
       "1  Though as hardware wallets go, ledger has some...   cnaz3u1  2014-12-31   \n",
       "2  I guess that's true in a sense.\\n\\nIt's just t...   cnaz3sc  2014-12-31   \n",
       "3  Or you'll realize, perhaps in another year, th...   cnaz3s1  2014-12-31   \n",
       "4  For me, 2014 was the year where the idea that ...   cnaz3mm  2014-12-31   \n",
       "\n",
       "  is_submitier is_submitter link    link_id   parent_id  score post_id  \n",
       "0          NaN                    t3_2qygsn  t1_cnas5eg      8  2qygsn  \n",
       "1          NaN                    t3_2qxrnx  t1_cnaobhk      0  2qxrnx  \n",
       "2          NaN                    t3_2qx1sz  t1_cnad60o      1  2qx1sz  \n",
       "3          NaN                    t3_2qze2q  t1_cnayywz    -16  2qze2q  \n",
       "4          NaN                    t3_2qz6vb  t1_cnayo12     10  2qz6vb  "
      ]
     },
     "execution_count": 13,
     "metadata": {},
     "output_type": "execute_result"
    }
   ],
   "source": [
    "comment.head()"
   ]
  },
  {
   "cell_type": "code",
   "execution_count": 14,
   "metadata": {},
   "outputs": [],
   "source": [
    "comment1 = comment.groupby('post_id')['author'].nunique().to_frame(name='Num_of_repliedids')\n",
    "comment2 = comment.groupby('post_id').agg({'score': 'mean'})\n",
    "comment3 = comment2[['score']].rename(columns={'score': 'comments_score'})\n",
    "comment_s = comment1.merge(comment3, how='inner', left_on='post_id', right_on='post_id')"
   ]
  },
  {
   "cell_type": "code",
   "execution_count": 15,
   "metadata": {},
   "outputs": [
    {
     "data": {
      "text/html": [
       "<div>\n",
       "<style scoped>\n",
       "    .dataframe tbody tr th:only-of-type {\n",
       "        vertical-align: middle;\n",
       "    }\n",
       "\n",
       "    .dataframe tbody tr th {\n",
       "        vertical-align: top;\n",
       "    }\n",
       "\n",
       "    .dataframe thead th {\n",
       "        text-align: right;\n",
       "    }\n",
       "</style>\n",
       "<table border=\"1\" class=\"dataframe\">\n",
       "  <thead>\n",
       "    <tr style=\"text-align: right;\">\n",
       "      <th></th>\n",
       "      <th>Num_of_repliedids</th>\n",
       "      <th>comments_score</th>\n",
       "    </tr>\n",
       "    <tr>\n",
       "      <th>post_id</th>\n",
       "      <th></th>\n",
       "      <th></th>\n",
       "    </tr>\n",
       "  </thead>\n",
       "  <tbody>\n",
       "    <tr>\n",
       "      <td>1gsd99</td>\n",
       "      <td>1</td>\n",
       "      <td>1.0</td>\n",
       "    </tr>\n",
       "    <tr>\n",
       "      <td>1im6hw</td>\n",
       "      <td>2</td>\n",
       "      <td>0.5</td>\n",
       "    </tr>\n",
       "    <tr>\n",
       "      <td>1j2voc</td>\n",
       "      <td>1</td>\n",
       "      <td>1.0</td>\n",
       "    </tr>\n",
       "    <tr>\n",
       "      <td>1j66ry</td>\n",
       "      <td>1</td>\n",
       "      <td>1.0</td>\n",
       "    </tr>\n",
       "    <tr>\n",
       "      <td>1j7ybq</td>\n",
       "      <td>1</td>\n",
       "      <td>1.0</td>\n",
       "    </tr>\n",
       "  </tbody>\n",
       "</table>\n",
       "</div>"
      ],
      "text/plain": [
       "         Num_of_repliedids  comments_score\n",
       "post_id                                   \n",
       "1gsd99                   1             1.0\n",
       "1im6hw                   2             0.5\n",
       "1j2voc                   1             1.0\n",
       "1j66ry                   1             1.0\n",
       "1j7ybq                   1             1.0"
      ]
     },
     "execution_count": 15,
     "metadata": {},
     "output_type": "execute_result"
    }
   ],
   "source": [
    "comment_s.head()"
   ]
  },
  {
   "cell_type": "code",
   "execution_count": 16,
   "metadata": {},
   "outputs": [],
   "source": [
    "post_all = post.merge(comment_s, how='inner', left_on='submissionID', right_on='post_id' )"
   ]
  },
  {
   "cell_type": "code",
   "execution_count": 88,
   "metadata": {},
   "outputs": [],
   "source": [
    "post_all['next_date'] = pd.DatetimeIndex(post_all.created_utc) + pd.DateOffset(1)"
   ]
  },
  {
   "cell_type": "code",
   "execution_count": 89,
   "metadata": {},
   "outputs": [
    {
     "name": "stdout",
     "output_type": "stream",
     "text": [
      "<class 'pandas.core.frame.DataFrame'>\n",
      "Int64Index: 242004 entries, 0 to 242003\n",
      "Data columns (total 13 columns):\n",
      "created_utc              242004 non-null datetime64[ns]\n",
      "submissionID             242004 non-null object\n",
      "full_link                242004 non-null object\n",
      "author                   242004 non-null object\n",
      "author_flair_richtext    242004 non-null object\n",
      "num_comments             242004 non-null int64\n",
      "score                    242004 non-null int64\n",
      "title                    242004 non-null object\n",
      "selftext                 242004 non-null object\n",
      "link                     242004 non-null object\n",
      "Num_of_repliedids        242004 non-null int64\n",
      "comments_score           242004 non-null float64\n",
      "next_date                242004 non-null datetime64[ns]\n",
      "dtypes: datetime64[ns](2), float64(1), int64(3), object(7)\n",
      "memory usage: 25.8+ MB\n"
     ]
    }
   ],
   "source": [
    "post_all.info()"
   ]
  },
  {
   "cell_type": "code",
   "execution_count": 90,
   "metadata": {},
   "outputs": [
    {
     "data": {
      "text/html": [
       "<div>\n",
       "<style scoped>\n",
       "    .dataframe tbody tr th:only-of-type {\n",
       "        vertical-align: middle;\n",
       "    }\n",
       "\n",
       "    .dataframe tbody tr th {\n",
       "        vertical-align: top;\n",
       "    }\n",
       "\n",
       "    .dataframe thead th {\n",
       "        text-align: right;\n",
       "    }\n",
       "</style>\n",
       "<table border=\"1\" class=\"dataframe\">\n",
       "  <thead>\n",
       "    <tr style=\"text-align: right;\">\n",
       "      <th></th>\n",
       "      <th>created_utc</th>\n",
       "      <th>submissionID</th>\n",
       "      <th>full_link</th>\n",
       "      <th>author</th>\n",
       "      <th>author_flair_richtext</th>\n",
       "      <th>num_comments</th>\n",
       "      <th>score</th>\n",
       "      <th>title</th>\n",
       "      <th>selftext</th>\n",
       "      <th>link</th>\n",
       "      <th>Num_of_repliedids</th>\n",
       "      <th>comments_score</th>\n",
       "      <th>next_date</th>\n",
       "    </tr>\n",
       "  </thead>\n",
       "  <tbody>\n",
       "    <tr>\n",
       "      <td>0</td>\n",
       "      <td>2014-12-31</td>\n",
       "      <td>2qziky</td>\n",
       "      <td></td>\n",
       "      <td>BitStashCTO</td>\n",
       "      <td></td>\n",
       "      <td>6</td>\n",
       "      <td>30</td>\n",
       "      <td>If ever Bitcoin had a use case, Venezuela is it !</td>\n",
       "      <td></td>\n",
       "      <td>https://www.reddit.com/r/Bitcoin/comments/2qzi...</td>\n",
       "      <td>1</td>\n",
       "      <td>1.000000</td>\n",
       "      <td>2015-01-01</td>\n",
       "    </tr>\n",
       "    <tr>\n",
       "      <td>1</td>\n",
       "      <td>2014-12-31</td>\n",
       "      <td>2qziky</td>\n",
       "      <td></td>\n",
       "      <td>BitStashCTO</td>\n",
       "      <td></td>\n",
       "      <td>6</td>\n",
       "      <td>30</td>\n",
       "      <td>If ever Bitcoin had a use case, Venezuela is it !</td>\n",
       "      <td></td>\n",
       "      <td>https://www.reddit.com/r/Bitcoin/comments/2qzi...</td>\n",
       "      <td>1</td>\n",
       "      <td>1.000000</td>\n",
       "      <td>2015-01-01</td>\n",
       "    </tr>\n",
       "    <tr>\n",
       "      <td>2</td>\n",
       "      <td>2014-12-31</td>\n",
       "      <td>2qzh5h</td>\n",
       "      <td></td>\n",
       "      <td>bittopia</td>\n",
       "      <td></td>\n",
       "      <td>27</td>\n",
       "      <td>33</td>\n",
       "      <td>Do you guys stash dummy BTC wallets everywhere...</td>\n",
       "      <td>I have 10 wallets on a few PCs and mobile devi...</td>\n",
       "      <td>https://www.reddit.com/r/Bitcoin/comments/2qzh...</td>\n",
       "      <td>3</td>\n",
       "      <td>2.250000</td>\n",
       "      <td>2015-01-01</td>\n",
       "    </tr>\n",
       "    <tr>\n",
       "      <td>3</td>\n",
       "      <td>2014-12-31</td>\n",
       "      <td>2qzh5h</td>\n",
       "      <td></td>\n",
       "      <td>bittopia</td>\n",
       "      <td></td>\n",
       "      <td>27</td>\n",
       "      <td>33</td>\n",
       "      <td>Do you guys stash dummy BTC wallets everywhere...</td>\n",
       "      <td>I have 10 wallets on a few PCs and mobile devi...</td>\n",
       "      <td>https://www.reddit.com/r/Bitcoin/comments/2qzh...</td>\n",
       "      <td>3</td>\n",
       "      <td>2.250000</td>\n",
       "      <td>2015-01-01</td>\n",
       "    </tr>\n",
       "    <tr>\n",
       "      <td>4</td>\n",
       "      <td>2014-12-31</td>\n",
       "      <td>2qzfks</td>\n",
       "      <td></td>\n",
       "      <td>btcRaleigh</td>\n",
       "      <td></td>\n",
       "      <td>19</td>\n",
       "      <td>57</td>\n",
       "      <td>Random Bitcoin fact I learned today</td>\n",
       "      <td>Bitcoin addresses consist of random digits and...</td>\n",
       "      <td>https://www.reddit.com/r/Bitcoin/comments/2qzf...</td>\n",
       "      <td>6</td>\n",
       "      <td>1.285714</td>\n",
       "      <td>2015-01-01</td>\n",
       "    </tr>\n",
       "  </tbody>\n",
       "</table>\n",
       "</div>"
      ],
      "text/plain": [
       "  created_utc submissionID full_link       author author_flair_richtext  \\\n",
       "0  2014-12-31       2qziky            BitStashCTO                         \n",
       "1  2014-12-31       2qziky            BitStashCTO                         \n",
       "2  2014-12-31       2qzh5h               bittopia                         \n",
       "3  2014-12-31       2qzh5h               bittopia                         \n",
       "4  2014-12-31       2qzfks             btcRaleigh                         \n",
       "\n",
       "   num_comments  score                                              title  \\\n",
       "0             6     30  If ever Bitcoin had a use case, Venezuela is it !   \n",
       "1             6     30  If ever Bitcoin had a use case, Venezuela is it !   \n",
       "2            27     33  Do you guys stash dummy BTC wallets everywhere...   \n",
       "3            27     33  Do you guys stash dummy BTC wallets everywhere...   \n",
       "4            19     57                Random Bitcoin fact I learned today   \n",
       "\n",
       "                                            selftext  \\\n",
       "0                                                      \n",
       "1                                                      \n",
       "2  I have 10 wallets on a few PCs and mobile devi...   \n",
       "3  I have 10 wallets on a few PCs and mobile devi...   \n",
       "4  Bitcoin addresses consist of random digits and...   \n",
       "\n",
       "                                                link  Num_of_repliedids  \\\n",
       "0  https://www.reddit.com/r/Bitcoin/comments/2qzi...                  1   \n",
       "1  https://www.reddit.com/r/Bitcoin/comments/2qzi...                  1   \n",
       "2  https://www.reddit.com/r/Bitcoin/comments/2qzh...                  3   \n",
       "3  https://www.reddit.com/r/Bitcoin/comments/2qzh...                  3   \n",
       "4  https://www.reddit.com/r/Bitcoin/comments/2qzf...                  6   \n",
       "\n",
       "   comments_score  next_date  \n",
       "0        1.000000 2015-01-01  \n",
       "1        1.000000 2015-01-01  \n",
       "2        2.250000 2015-01-01  \n",
       "3        2.250000 2015-01-01  \n",
       "4        1.285714 2015-01-01  "
      ]
     },
     "execution_count": 90,
     "metadata": {},
     "output_type": "execute_result"
    }
   ],
   "source": [
    "post_all.head()"
   ]
  },
  {
   "cell_type": "code",
   "execution_count": null,
   "metadata": {},
   "outputs": [],
   "source": []
  },
  {
   "cell_type": "code",
   "execution_count": 19,
   "metadata": {},
   "outputs": [],
   "source": [
    "post1 = post_all.groupby('created_utc')['submissionID'].nunique().to_frame(name='Num_of_submissionID')\n",
    "post2 = post_all.groupby('created_utc')['author'].nunique().to_frame(name='Num_of_author')\n",
    "post3 = post_all.groupby('created_utc').agg({'num_comments': 'sum', 'Num_of_repliedids': 'sum', 'score': 'mean', 'comments_score': 'mean'})\n"
   ]
  },
  {
   "cell_type": "code",
   "execution_count": 20,
   "metadata": {},
   "outputs": [
    {
     "name": "stdout",
     "output_type": "stream",
     "text": [
      "<class 'pandas.core.frame.DataFrame'>\n",
      "DatetimeIndex: 2612 entries, 2013-12-31 to 2021-03-17\n",
      "Data columns (total 4 columns):\n",
      "num_comments         2612 non-null int64\n",
      "Num_of_repliedids    2612 non-null int64\n",
      "score                2612 non-null float64\n",
      "comments_score       2612 non-null float64\n",
      "dtypes: float64(2), int64(2)\n",
      "memory usage: 102.0 KB\n"
     ]
    }
   ],
   "source": [
    "post3.info()"
   ]
  },
  {
   "cell_type": "code",
   "execution_count": 21,
   "metadata": {},
   "outputs": [],
   "source": [
    "join = post1.merge(post2, how='inner', left_on='created_utc', right_on='created_utc')\n",
    "post_s = join.merge(post3, how='inner', left_on='created_utc', right_on='created_utc')"
   ]
  },
  {
   "cell_type": "code",
   "execution_count": 22,
   "metadata": {},
   "outputs": [
    {
     "name": "stdout",
     "output_type": "stream",
     "text": [
      "<class 'pandas.core.frame.DataFrame'>\n",
      "DatetimeIndex: 2612 entries, 2013-12-31 to 2021-03-17\n",
      "Data columns (total 6 columns):\n",
      "Num_of_submissionID    2612 non-null int64\n",
      "Num_of_author          2612 non-null int64\n",
      "num_comments           2612 non-null int64\n",
      "Num_of_repliedids      2612 non-null int64\n",
      "score                  2612 non-null float64\n",
      "comments_score         2612 non-null float64\n",
      "dtypes: float64(2), int64(4)\n",
      "memory usage: 142.8 KB\n"
     ]
    }
   ],
   "source": [
    "post_s.info()"
   ]
  },
  {
   "cell_type": "code",
   "execution_count": 23,
   "metadata": {},
   "outputs": [
    {
     "data": {
      "text/html": [
       "<div>\n",
       "<style scoped>\n",
       "    .dataframe tbody tr th:only-of-type {\n",
       "        vertical-align: middle;\n",
       "    }\n",
       "\n",
       "    .dataframe tbody tr th {\n",
       "        vertical-align: top;\n",
       "    }\n",
       "\n",
       "    .dataframe thead th {\n",
       "        text-align: right;\n",
       "    }\n",
       "</style>\n",
       "<table border=\"1\" class=\"dataframe\">\n",
       "  <thead>\n",
       "    <tr style=\"text-align: right;\">\n",
       "      <th></th>\n",
       "      <th>Num_of_submissionID</th>\n",
       "      <th>Num_of_author</th>\n",
       "      <th>num_comments</th>\n",
       "      <th>Num_of_repliedids</th>\n",
       "      <th>score</th>\n",
       "      <th>comments_score</th>\n",
       "    </tr>\n",
       "    <tr>\n",
       "      <th>created_utc</th>\n",
       "      <th></th>\n",
       "      <th></th>\n",
       "      <th></th>\n",
       "      <th></th>\n",
       "      <th></th>\n",
       "      <th></th>\n",
       "    </tr>\n",
       "  </thead>\n",
       "  <tbody>\n",
       "    <tr>\n",
       "      <td>2013-12-31</td>\n",
       "      <td>29</td>\n",
       "      <td>21</td>\n",
       "      <td>937</td>\n",
       "      <td>110</td>\n",
       "      <td>42.413793</td>\n",
       "      <td>2.178298</td>\n",
       "    </tr>\n",
       "    <tr>\n",
       "      <td>2014-01-01</td>\n",
       "      <td>74</td>\n",
       "      <td>60</td>\n",
       "      <td>2229</td>\n",
       "      <td>281</td>\n",
       "      <td>60.743243</td>\n",
       "      <td>1.463552</td>\n",
       "    </tr>\n",
       "    <tr>\n",
       "      <td>2014-01-02</td>\n",
       "      <td>115</td>\n",
       "      <td>92</td>\n",
       "      <td>4522</td>\n",
       "      <td>683</td>\n",
       "      <td>61.495652</td>\n",
       "      <td>1.980248</td>\n",
       "    </tr>\n",
       "    <tr>\n",
       "      <td>2014-01-03</td>\n",
       "      <td>121</td>\n",
       "      <td>99</td>\n",
       "      <td>3646</td>\n",
       "      <td>518</td>\n",
       "      <td>53.247934</td>\n",
       "      <td>1.998339</td>\n",
       "    </tr>\n",
       "    <tr>\n",
       "      <td>2014-01-04</td>\n",
       "      <td>141</td>\n",
       "      <td>115</td>\n",
       "      <td>3396</td>\n",
       "      <td>632</td>\n",
       "      <td>41.978723</td>\n",
       "      <td>1.826934</td>\n",
       "    </tr>\n",
       "  </tbody>\n",
       "</table>\n",
       "</div>"
      ],
      "text/plain": [
       "             Num_of_submissionID  Num_of_author  num_comments  \\\n",
       "created_utc                                                     \n",
       "2013-12-31                    29             21           937   \n",
       "2014-01-01                    74             60          2229   \n",
       "2014-01-02                   115             92          4522   \n",
       "2014-01-03                   121             99          3646   \n",
       "2014-01-04                   141            115          3396   \n",
       "\n",
       "             Num_of_repliedids      score  comments_score  \n",
       "created_utc                                                \n",
       "2013-12-31                 110  42.413793        2.178298  \n",
       "2014-01-01                 281  60.743243        1.463552  \n",
       "2014-01-02                 683  61.495652        1.980248  \n",
       "2014-01-03                 518  53.247934        1.998339  \n",
       "2014-01-04                 632  41.978723        1.826934  "
      ]
     },
     "execution_count": 23,
     "metadata": {},
     "output_type": "execute_result"
    }
   ],
   "source": [
    "post_s.head()"
   ]
  },
  {
   "cell_type": "code",
   "execution_count": 24,
   "metadata": {},
   "outputs": [],
   "source": [
    "bitcoin = pd.read_csv('BTC-USD.csv')"
   ]
  },
  {
   "cell_type": "code",
   "execution_count": 25,
   "metadata": {},
   "outputs": [],
   "source": [
    "bitcoin['delta'] = bitcoin['Adj Close'] - bitcoin['Open']\n",
    "bitcoin['increase'] = bitcoin.apply(lambda x: 1 if x['delta']>0 else 0, axis=1)\n",
    "bitcoin['Date'] = pd.to_datetime(bitcoin['Date'])\n"
   ]
  },
  {
   "cell_type": "code",
   "execution_count": 26,
   "metadata": {},
   "outputs": [
    {
     "name": "stdout",
     "output_type": "stream",
     "text": [
      "<class 'pandas.core.frame.DataFrame'>\n",
      "RangeIndex: 2373 entries, 0 to 2372\n",
      "Data columns (total 9 columns):\n",
      "Date         2373 non-null datetime64[ns]\n",
      "Open         2369 non-null float64\n",
      "High         2369 non-null float64\n",
      "Low          2369 non-null float64\n",
      "Close        2369 non-null float64\n",
      "Adj Close    2369 non-null float64\n",
      "Volume       2369 non-null float64\n",
      "delta        2369 non-null float64\n",
      "increase     2373 non-null int64\n",
      "dtypes: datetime64[ns](1), float64(7), int64(1)\n",
      "memory usage: 167.0 KB\n"
     ]
    }
   ],
   "source": [
    "bitcoin.info()"
   ]
  },
  {
   "cell_type": "code",
   "execution_count": 27,
   "metadata": {},
   "outputs": [
    {
     "data": {
      "text/html": [
       "<div>\n",
       "<style scoped>\n",
       "    .dataframe tbody tr th:only-of-type {\n",
       "        vertical-align: middle;\n",
       "    }\n",
       "\n",
       "    .dataframe tbody tr th {\n",
       "        vertical-align: top;\n",
       "    }\n",
       "\n",
       "    .dataframe thead th {\n",
       "        text-align: right;\n",
       "    }\n",
       "</style>\n",
       "<table border=\"1\" class=\"dataframe\">\n",
       "  <thead>\n",
       "    <tr style=\"text-align: right;\">\n",
       "      <th></th>\n",
       "      <th>Date</th>\n",
       "      <th>Open</th>\n",
       "      <th>High</th>\n",
       "      <th>Low</th>\n",
       "      <th>Close</th>\n",
       "      <th>Adj Close</th>\n",
       "      <th>Volume</th>\n",
       "      <th>delta</th>\n",
       "      <th>increase</th>\n",
       "    </tr>\n",
       "  </thead>\n",
       "  <tbody>\n",
       "    <tr>\n",
       "      <td>0</td>\n",
       "      <td>2014-09-17</td>\n",
       "      <td>465.864014</td>\n",
       "      <td>468.174011</td>\n",
       "      <td>452.421997</td>\n",
       "      <td>457.334015</td>\n",
       "      <td>457.334015</td>\n",
       "      <td>21056800.0</td>\n",
       "      <td>-8.529999</td>\n",
       "      <td>0</td>\n",
       "    </tr>\n",
       "    <tr>\n",
       "      <td>1</td>\n",
       "      <td>2014-09-18</td>\n",
       "      <td>456.859985</td>\n",
       "      <td>456.859985</td>\n",
       "      <td>413.104004</td>\n",
       "      <td>424.440002</td>\n",
       "      <td>424.440002</td>\n",
       "      <td>34483200.0</td>\n",
       "      <td>-32.419983</td>\n",
       "      <td>0</td>\n",
       "    </tr>\n",
       "    <tr>\n",
       "      <td>2</td>\n",
       "      <td>2014-09-19</td>\n",
       "      <td>424.102997</td>\n",
       "      <td>427.834991</td>\n",
       "      <td>384.532013</td>\n",
       "      <td>394.795990</td>\n",
       "      <td>394.795990</td>\n",
       "      <td>37919700.0</td>\n",
       "      <td>-29.307007</td>\n",
       "      <td>0</td>\n",
       "    </tr>\n",
       "    <tr>\n",
       "      <td>3</td>\n",
       "      <td>2014-09-20</td>\n",
       "      <td>394.673004</td>\n",
       "      <td>423.295990</td>\n",
       "      <td>389.882996</td>\n",
       "      <td>408.903992</td>\n",
       "      <td>408.903992</td>\n",
       "      <td>36863600.0</td>\n",
       "      <td>14.230988</td>\n",
       "      <td>1</td>\n",
       "    </tr>\n",
       "    <tr>\n",
       "      <td>4</td>\n",
       "      <td>2014-09-21</td>\n",
       "      <td>408.084991</td>\n",
       "      <td>412.425995</td>\n",
       "      <td>393.181000</td>\n",
       "      <td>398.821014</td>\n",
       "      <td>398.821014</td>\n",
       "      <td>26580100.0</td>\n",
       "      <td>-9.263977</td>\n",
       "      <td>0</td>\n",
       "    </tr>\n",
       "  </tbody>\n",
       "</table>\n",
       "</div>"
      ],
      "text/plain": [
       "        Date        Open        High         Low       Close   Adj Close  \\\n",
       "0 2014-09-17  465.864014  468.174011  452.421997  457.334015  457.334015   \n",
       "1 2014-09-18  456.859985  456.859985  413.104004  424.440002  424.440002   \n",
       "2 2014-09-19  424.102997  427.834991  384.532013  394.795990  394.795990   \n",
       "3 2014-09-20  394.673004  423.295990  389.882996  408.903992  408.903992   \n",
       "4 2014-09-21  408.084991  412.425995  393.181000  398.821014  398.821014   \n",
       "\n",
       "       Volume      delta  increase  \n",
       "0  21056800.0  -8.529999         0  \n",
       "1  34483200.0 -32.419983         0  \n",
       "2  37919700.0 -29.307007         0  \n",
       "3  36863600.0  14.230988         1  \n",
       "4  26580100.0  -9.263977         0  "
      ]
     },
     "execution_count": 27,
     "metadata": {},
     "output_type": "execute_result"
    }
   ],
   "source": [
    "bitcoin.head()"
   ]
  },
  {
   "cell_type": "code",
   "execution_count": 28,
   "metadata": {},
   "outputs": [],
   "source": [
    "dataset_temp = post_s.merge(bitcoin, how='inner', left_on='created_utc', right_on='Date')\n",
    "dataset = dataset_temp.drop(['Date', 'Open', 'High', 'Low', 'Close', 'Adj Close', 'Volume', 'delta' ],axis=1)"
   ]
  },
  {
   "cell_type": "code",
   "execution_count": 29,
   "metadata": {},
   "outputs": [
    {
     "name": "stdout",
     "output_type": "stream",
     "text": [
      "<class 'pandas.core.frame.DataFrame'>\n",
      "Int64Index: 2351 entries, 0 to 2350\n",
      "Data columns (total 7 columns):\n",
      "Num_of_submissionID    2351 non-null int64\n",
      "Num_of_author          2351 non-null int64\n",
      "num_comments           2351 non-null int64\n",
      "Num_of_repliedids      2351 non-null int64\n",
      "score                  2351 non-null float64\n",
      "comments_score         2351 non-null float64\n",
      "increase               2351 non-null int64\n",
      "dtypes: float64(2), int64(5)\n",
      "memory usage: 146.9 KB\n"
     ]
    }
   ],
   "source": [
    "dataset.info()"
   ]
  },
  {
   "cell_type": "code",
   "execution_count": 34,
   "metadata": {},
   "outputs": [
    {
     "data": {
      "text/html": [
       "<div>\n",
       "<style scoped>\n",
       "    .dataframe tbody tr th:only-of-type {\n",
       "        vertical-align: middle;\n",
       "    }\n",
       "\n",
       "    .dataframe tbody tr th {\n",
       "        vertical-align: top;\n",
       "    }\n",
       "\n",
       "    .dataframe thead th {\n",
       "        text-align: right;\n",
       "    }\n",
       "</style>\n",
       "<table border=\"1\" class=\"dataframe\">\n",
       "  <thead>\n",
       "    <tr style=\"text-align: right;\">\n",
       "      <th></th>\n",
       "      <th>Num_of_submissionID</th>\n",
       "      <th>Num_of_author</th>\n",
       "      <th>num_comments</th>\n",
       "      <th>Num_of_repliedids</th>\n",
       "      <th>score</th>\n",
       "      <th>comments_score</th>\n",
       "      <th>increase</th>\n",
       "    </tr>\n",
       "  </thead>\n",
       "  <tbody>\n",
       "    <tr>\n",
       "      <td>0</td>\n",
       "      <td>165</td>\n",
       "      <td>127</td>\n",
       "      <td>3133</td>\n",
       "      <td>900</td>\n",
       "      <td>35.381818</td>\n",
       "      <td>1.589498</td>\n",
       "      <td>0</td>\n",
       "    </tr>\n",
       "    <tr>\n",
       "      <td>1</td>\n",
       "      <td>80</td>\n",
       "      <td>67</td>\n",
       "      <td>2593</td>\n",
       "      <td>318</td>\n",
       "      <td>62.650000</td>\n",
       "      <td>1.285665</td>\n",
       "      <td>0</td>\n",
       "    </tr>\n",
       "    <tr>\n",
       "      <td>2</td>\n",
       "      <td>119</td>\n",
       "      <td>96</td>\n",
       "      <td>3288</td>\n",
       "      <td>622</td>\n",
       "      <td>37.941176</td>\n",
       "      <td>1.723893</td>\n",
       "      <td>0</td>\n",
       "    </tr>\n",
       "    <tr>\n",
       "      <td>3</td>\n",
       "      <td>90</td>\n",
       "      <td>73</td>\n",
       "      <td>2378</td>\n",
       "      <td>594</td>\n",
       "      <td>42.044444</td>\n",
       "      <td>2.053441</td>\n",
       "      <td>1</td>\n",
       "    </tr>\n",
       "    <tr>\n",
       "      <td>4</td>\n",
       "      <td>116</td>\n",
       "      <td>91</td>\n",
       "      <td>2536</td>\n",
       "      <td>932</td>\n",
       "      <td>34.344828</td>\n",
       "      <td>1.680739</td>\n",
       "      <td>0</td>\n",
       "    </tr>\n",
       "  </tbody>\n",
       "</table>\n",
       "</div>"
      ],
      "text/plain": [
       "   Num_of_submissionID  Num_of_author  num_comments  Num_of_repliedids  \\\n",
       "0                  165            127          3133                900   \n",
       "1                   80             67          2593                318   \n",
       "2                  119             96          3288                622   \n",
       "3                   90             73          2378                594   \n",
       "4                  116             91          2536                932   \n",
       "\n",
       "       score  comments_score  increase  \n",
       "0  35.381818        1.589498         0  \n",
       "1  62.650000        1.285665         0  \n",
       "2  37.941176        1.723893         0  \n",
       "3  42.044444        2.053441         1  \n",
       "4  34.344828        1.680739         0  "
      ]
     },
     "execution_count": 34,
     "metadata": {},
     "output_type": "execute_result"
    }
   ],
   "source": [
    "dataset.head()"
   ]
  },
  {
   "cell_type": "code",
   "execution_count": 35,
   "metadata": {},
   "outputs": [],
   "source": [
    "x_data = dataset.loc[:, dataset.columns != \"increase\"]\n",
    "y_data = dataset.loc[:, \"increase\"]"
   ]
  },
  {
   "cell_type": "code",
   "execution_count": 38,
   "metadata": {},
   "outputs": [],
   "source": [
    "x_train, x_test, y_train, y_test = train_test_split(x_data, y_data, test_size = 0.3, shuffle = True, random_state = 614)"
   ]
  },
  {
   "cell_type": "code",
   "execution_count": 43,
   "metadata": {},
   "outputs": [],
   "source": [
    "#export\n",
    "class LinearRegressionModel():\n",
    "    \n",
    "    # points [2]\n",
    "    def linearClassifier(self,x_train, x_test, y_train):\n",
    "        # TODO: Create a LinearRegression classifier and train it.\n",
    "        # args: pandas dataframe, pandas dataframe, pandas series\n",
    "        # return: numpy array, numpy array\n",
    "        # -------------------------------\n",
    "        # ADD CODE HERE\n",
    "        linear = LinearRegression().fit(x_train,y_train)\n",
    "        y_predict_train = linear.predict(x_train)\n",
    "        y_predict_test = linear.predict(x_test)\n",
    "        \n",
    "        # -------------------------------\n",
    "        return y_predict_train, y_predict_test\n",
    "\n",
    "    # points [1]\n",
    "    def lgTrainAccuracy(self,y_train,y_predict_train):\n",
    "        # TODO: Return accuracy (on the training set) using the accuracy_score method.\n",
    "        # Note: Round the output values greater than or equal to 0.5 to 1 and those less than 0.5 to 0. You can use any method that satisfies the requriements.\n",
    "        # args: pandas series, numpy array\n",
    "        # return: float\n",
    "        # -------------------------------\n",
    "        # ADD CODE HERE \n",
    "        #y_predict_train_round = [round(k) for k in y_predict_train]\n",
    "        for i in range(len(y_predict_train)):\n",
    "            if y_predict_train[i] >= 0.5: y_predict_train[i] = 1\n",
    "            else: y_predict_train[i] = 0\n",
    "        train_accuracy = accuracy_score(y_train, y_predict_train)\n",
    " \n",
    "        # -------------------------------   \n",
    "        return train_accuracy\n",
    "    \n",
    "    # points [1]\n",
    "    def lgTestAccuracy(self,y_test,y_predict_test):\n",
    "        # TODO: Return accuracy (on the testing set) using the accuracy_score method.\n",
    "        # Note: Round the output values greater than or equal to 0.5 to 1 and those less than 0.5 to 0. You can use any method that satisfies the requriements.\n",
    "        # args: pandas series, numpy array\n",
    "        # return: float\n",
    "        # -------------------------------\n",
    "        # ADD CODE HERE\n",
    "        #y_predict_test_round = [round(k) for k in y_predict_test]\n",
    "        for i in range(len(y_predict_test)):\n",
    "            if y_predict_test[i] >= 0.5: y_predict_test[i] = 1\n",
    "            else: y_predict_test[i] = 0\n",
    "        test_accuracy = accuracy_score(y_test, y_predict_test)\n",
    "        # -------------------------------\n",
    "        return test_accuracy\n",
    "    \n"
   ]
  },
  {
   "cell_type": "code",
   "execution_count": 44,
   "metadata": {},
   "outputs": [],
   "source": [
    "Linear = LinearRegressionModel()\n"
   ]
  },
  {
   "cell_type": "code",
   "execution_count": 46,
   "metadata": {},
   "outputs": [],
   "source": [
    "y_predict_train, y_predict_test = Linear.linearClassifier(x_train, x_test, y_train)"
   ]
  },
  {
   "cell_type": "code",
   "execution_count": 47,
   "metadata": {},
   "outputs": [],
   "source": [
    "train_accuracy = Linear.lgTrainAccuracy(y_train,y_predict_train)"
   ]
  },
  {
   "cell_type": "code",
   "execution_count": 48,
   "metadata": {},
   "outputs": [],
   "source": [
    "test_accuracy = Linear.lgTestAccuracy(y_test,y_predict_test)"
   ]
  },
  {
   "cell_type": "code",
   "execution_count": 50,
   "metadata": {},
   "outputs": [
    {
     "name": "stdout",
     "output_type": "stream",
     "text": [
      "train_accuracy = 0.5525835866261398\n",
      "test_accuracy = 0.546742209631728\n"
     ]
    }
   ],
   "source": [
    "print(\"train_accuracy = \" + str(train_accuracy))\n",
    "print(\"test_accuracy = \" + str(test_accuracy))"
   ]
  },
  {
   "cell_type": "code",
   "execution_count": null,
   "metadata": {},
   "outputs": [],
   "source": []
  },
  {
   "cell_type": "code",
   "execution_count": 51,
   "metadata": {},
   "outputs": [],
   "source": [
    "#export\n",
    "class RFClassifier():\n",
    "    \n",
    "    # points [2]\n",
    "    def randomForestClassifier(self,x_train,x_test, y_train):\n",
    "        # TODO: Create a RandomForestClassifier and train it. Set Random state to 614.\n",
    "        # args: pandas dataframe, pandas dataframe, pandas series\n",
    "        # return: RandomForestClassifier object, numpy array, numpy array\n",
    "        # -------------------------------\n",
    "        # ADD CODE HERE\n",
    "        rf_clf = RandomForestClassifier(random_state = 614).fit(x_train, y_train)\n",
    "        y_predict_train = rf_clf.predict(x_train)\n",
    "        y_predict_test = rf_clf.predict(x_test)\n",
    "        # -------------------------------\n",
    "        return rf_clf,y_predict_train, y_predict_test\n",
    "    \n",
    "    # points [1]\n",
    "    def rfTrainAccuracy(self,y_train,y_predict_train):\n",
    "        # TODO: Return accuracy on the training set using the accuracy_score method.\n",
    "        # args: pandas series, numpy array\n",
    "        # return: float\n",
    "        # -------------------------------\n",
    "        # ADD CODE HERE\n",
    "        train_accuracy = accuracy_score(y_train, y_predict_train)\n",
    "        # -------------------------------\n",
    "        return train_accuracy\n",
    "    \n",
    "    # points [1]\n",
    "    def rfTestAccuracy(self,y_test,y_predict_test):\n",
    "        # TODO: Return accuracy on the test set using the accuracy_score method.\n",
    "        # args: pandas series, numpy array\n",
    "        # return: float\n",
    "        # -------------------------------\n",
    "        # ADD CODE HERE\n",
    "        test_accuracy = accuracy_score(y_test, y_predict_test)\n",
    "        # -------------------------------\n",
    "        return test_accuracy\n",
    "    \n",
    "# Q3.3.1 Feature Importance\n",
    "    \n",
    "    # points [1]\n",
    "    def rfFeatureImportance(self,rf_clf):\n",
    "        # TODO: Determine the feature importance as evaluated by the Random Forest Classifier.\n",
    "        # args: RandomForestClassifier object\n",
    "        # return: float array\n",
    "        # -------------------------------\n",
    "        # ADD CODE HERE\n",
    "        \n",
    "        feature_importance = rf_clf.feature_importances_\n",
    "        # -------------------------------\n",
    "        return feature_importance\n",
    "    \n",
    "    # points [1]\n",
    "    def sortedRFFeatureImportanceIndicies(self,rf_clf):\n",
    "        # TODO: Sort them in the ascending order and return the feature numbers[0 to ...].\n",
    "        #       Hint: There is a direct function available in sklearn to achieve this. Also checkout argsort() function in Python.\n",
    "        # args: RandomForestClassifier object\n",
    "        # return: int array\n",
    "        # -------------------------------\n",
    "        # ADD CODE HERE\n",
    "        sorted_indices = np.argsort(rf_clf.feature_importances_)[::-1]\n",
    "        # -------------------------------\n",
    "        return sorted_indices\n",
    "    \n",
    "# Q3.3.2 Hyper-parameter Tuning\n",
    "\n",
    "    # points [2]\n",
    "    def hyperParameterTuning(self,rf_clf,x_train,y_train):\n",
    "        # TODO: Tune the hyper-parameters 'n_estimators' and 'max_depth'.\n",
    "        # args: RandomForestClassifier object, pandas dataframe, pandas series\n",
    "        # return: GridSearchCV object\n",
    "        # 'n_estimators': [4, 16, 256]\n",
    "        # 'max_depth': [2, 8, 16]\n",
    "        # -------------------------------\n",
    "        # ADD CODE HERE\n",
    "        param_grid = {'n_estimators': [4, 16, 256], 'max_depth': [2, 8, 16]}\n",
    "        gscv_rfc = GridSearchCV(estimator = rf_clf, param_grid = param_grid)\n",
    "        gscv_rfc.fit(x_train, y_train)\n",
    "        # -------------------------------\n",
    "        return gscv_rfc\n",
    "    \n",
    "    # points [1]\n",
    "    def bestParams(self,gscv_rfc):\n",
    "        # TODO: Get the best params, using .best_params_\n",
    "        # args:  GridSearchCV object\n",
    "        # return: parameter dict\n",
    "        # -------------------------------\n",
    "        # ADD CODE HERE\n",
    "        best_params = gscv_rfc.best_params_\n",
    "        # -------------------------------\n",
    "        return best_params\n",
    "    \n",
    "    # points [1]\n",
    "    def bestScore(self,gscv_rfc):\n",
    "        # TODO: Get the best score, using .best_score_.\n",
    "        # args: GridSearchCV object\n",
    "        # return: float\n",
    "        # -------------------------------\n",
    "        # ADD CODE HERE\n",
    "        best_score = gscv_rfc.best_score_\n",
    "        # -------------------------------\n",
    "        return best_score"
   ]
  },
  {
   "cell_type": "code",
   "execution_count": 52,
   "metadata": {},
   "outputs": [],
   "source": [
    "rm = RFClassifier()"
   ]
  },
  {
   "cell_type": "code",
   "execution_count": 54,
   "metadata": {},
   "outputs": [
    {
     "name": "stderr",
     "output_type": "stream",
     "text": [
      "/Users/jonhuaqin/opt/anaconda3/lib/python3.7/site-packages/sklearn/ensemble/forest.py:245: FutureWarning: The default value of n_estimators will change from 10 in version 0.20 to 100 in 0.22.\n",
      "  \"10 in version 0.20 to 100 in 0.22.\", FutureWarning)\n"
     ]
    }
   ],
   "source": [
    "rf_clf,y_predict_train, y_predict_test = rm.randomForestClassifier(x_train,x_test, y_train)"
   ]
  },
  {
   "cell_type": "code",
   "execution_count": 55,
   "metadata": {},
   "outputs": [],
   "source": [
    "train_accuracy = rm.rfTrainAccuracy(y_train,y_predict_train)"
   ]
  },
  {
   "cell_type": "code",
   "execution_count": 56,
   "metadata": {},
   "outputs": [
    {
     "data": {
      "text/plain": [
       "0.9890577507598785"
      ]
     },
     "execution_count": 56,
     "metadata": {},
     "output_type": "execute_result"
    }
   ],
   "source": [
    "train_accuracy"
   ]
  },
  {
   "cell_type": "code",
   "execution_count": 59,
   "metadata": {},
   "outputs": [],
   "source": [
    "test_accuracy = rm.rfTestAccuracy(y_test,y_predict_test)"
   ]
  },
  {
   "cell_type": "code",
   "execution_count": 60,
   "metadata": {},
   "outputs": [
    {
     "data": {
      "text/plain": [
       "0.5070821529745042"
      ]
     },
     "execution_count": 60,
     "metadata": {},
     "output_type": "execute_result"
    }
   ],
   "source": [
    "test_accuracy"
   ]
  },
  {
   "cell_type": "code",
   "execution_count": 61,
   "metadata": {},
   "outputs": [
    {
     "name": "stderr",
     "output_type": "stream",
     "text": [
      "/Users/jonhuaqin/opt/anaconda3/lib/python3.7/site-packages/sklearn/model_selection/_split.py:1978: FutureWarning: The default value of cv will change from 3 to 5 in version 0.22. Specify it explicitly to silence this warning.\n",
      "  warnings.warn(CV_WARNING, FutureWarning)\n"
     ]
    }
   ],
   "source": [
    "gscv_rfc = rm.hyperParameterTuning(rf_clf,x_train,y_train)"
   ]
  },
  {
   "cell_type": "code",
   "execution_count": 64,
   "metadata": {},
   "outputs": [],
   "source": [
    "best_params = gscv_rfc.best_params_"
   ]
  },
  {
   "cell_type": "code",
   "execution_count": 65,
   "metadata": {},
   "outputs": [
    {
     "data": {
      "text/plain": [
       "{'max_depth': 2, 'n_estimators': 256}"
      ]
     },
     "execution_count": 65,
     "metadata": {},
     "output_type": "execute_result"
    }
   ],
   "source": [
    "best_params"
   ]
  },
  {
   "cell_type": "code",
   "execution_count": 66,
   "metadata": {},
   "outputs": [],
   "source": [
    "best_score = gscv_rfc.best_score_"
   ]
  },
  {
   "cell_type": "code",
   "execution_count": 67,
   "metadata": {},
   "outputs": [
    {
     "data": {
      "text/plain": [
       "0.5458966565349544"
      ]
     },
     "execution_count": 67,
     "metadata": {},
     "output_type": "execute_result"
    }
   ],
   "source": [
    "bestScore"
   ]
  },
  {
   "cell_type": "code",
   "execution_count": 68,
   "metadata": {},
   "outputs": [],
   "source": [
    "#export\n",
    "class SupportVectorMachine():\n",
    "    \n",
    "# Q3.4.1 Pre-process\n",
    "\n",
    "    # points [1]\n",
    "    def dataPreProcess(self,x_train,x_test):\n",
    "        # TODO: Pre-process the data to standardize it, otherwise the grid search will take much longer.\n",
    "        # args: pandas dataframe, pandas dataframe\n",
    "        # return: pandas dataframe, pandas dataframe\n",
    "        # -------------------------------\n",
    "        # ADD CODE HERE\n",
    "        scaler = StandardScaler()\n",
    "        scaler.fit(x_train)\n",
    "        scaled_x_train = scaler.transform(x_train)\n",
    "        scaled_x_test = scaler.transform(x_test)\n",
    "        # -------------------------------\n",
    "        return scaled_x_train, scaled_x_test\n",
    "    \n",
    "# Q3.4.2 Classification\n",
    "\n",
    "    # points [1]\n",
    "    def SVCClassifier(self,scaled_x_train,scaled_x_test, y_train):\n",
    "        # TODO: Create a SVC classifier and train it. Set gamma = 'auto'\n",
    "        # args: pandas dataframe, pandas dataframe, pandas series\n",
    "        # return: numpy array, numpy array\n",
    "        # -------------------------------\n",
    "        # ADD CODE HERE\n",
    "        svm = SVC(gamma = 'auto')\n",
    "        svm.fit(scaled_x_train, y_train)\n",
    "        y_predict_train = svm.predict(scaled_x_train)\n",
    "        y_predict_test = svm.predict(scaled_x_test)\n",
    "        # -------------------------------\n",
    "        return y_predict_train,y_predict_test\n",
    "    \n",
    "    # points [1]\n",
    "    def SVCTrainAccuracy(self,y_train,y_predict_train):\n",
    "        # TODO: Return accuracy on the training set using the accuracy_score method.\n",
    "        # args: pandas series, numpy array\n",
    "        # return: float \n",
    "        # -------------------------------\n",
    "        # ADD CODE HERE\n",
    "        y_train_pred_round = [round(k) for k in y_predict_train]\n",
    "        train_accuracy = accuracy_score(y_train_pred_round, y_train)\n",
    "        # -------------------------------\n",
    "        return train_accuracy\n",
    "    \n",
    "    # points [1]\n",
    "    def SVCTestAccuracy(self,y_test,y_predict_test):\n",
    "        # TODO: Return accuracy on the test set using the accuracy_score method.\n",
    "        # args: pandas series, numpy array\n",
    "        # return: float \n",
    "        # -------------------------------\n",
    "        # ADD CODE HERE\n",
    "        y_test_pred_round = [round(k) for k in y_predict_test]\n",
    "        test_accuracy = accuracy_score(y_test_pred_round, y_test)        \n",
    "        # -------------------------------\n",
    "        return test_accuracy\n",
    "    \n",
    "# Q3.4.3 Hyper-parameter Tuning\n",
    "    \n",
    "    # points [1]\n",
    "    def SVMBestScore(self, scaled_x_train, y_train):\n",
    "        # TODO: Tune the hyper-parameters 'C' and 'kernel' (use rbf and linear).\n",
    "        # Note: Set n_jobs = -1 and , return_train_score=Ture and gamma = 'auto'\n",
    "        # args: pandas dataframe, pandas series\n",
    "        # return: GridSearchCV object, float\n",
    "        # -------------------------------\n",
    "        svm_parameters = {'kernel':('linear', 'rbf'), 'C':[0.01, 0.1, 1.0]}\n",
    "        # ADD CODE HERE\n",
    "        svm = SVC(gamma = 'auto')\n",
    "        #svm.fit(scaled_x_train, y_train)\n",
    "        svm_cv = GridSearchCV(estimator = svm, param_grid = svm_parameters, n_jobs = -1, return_train_score=True)\n",
    "        svm_cv.fit(scaled_x_train, y_train)\n",
    "        best_score = svm_cv.best_score_\n",
    "        # -------------------------------\n",
    "        \n",
    "        return svm_cv, best_score\n",
    "    \n",
    "    # points [1]\n",
    "    def SVCClassifierParam(self,svm_cv,scaled_x_train,scaled_x_test,y_train):\n",
    "        # TODO: Calculate the training and test set accuracy values after hyperparameter tuning and standardization. \n",
    "        # args: GridSearchCV object, pandas dataframe, pandas dataframe, pandas series\n",
    "        # return: numpy series, numpy series\n",
    "        # -------------------------------\n",
    "        # ADD CODE HERE\n",
    "        #svm_cv, best_score = SVMBestScore(scaled_x_train, y_train)\n",
    "        y_predict_train = svm_cv.predict(scaled_x_train)\n",
    "        y_predict_test = svm_cv.predict(scaled_x_test)\n",
    "        # -------------------------------\n",
    "        return y_predict_train, y_predict_test\n",
    "\n",
    "    # points [1]\n",
    "    def svcTrainAccuracy(self,y_train,y_predict_train):\n",
    "        # TODO: Return accuracy (on the training set) using the accuracy_score method.\n",
    "        # args: pandas series, numpy array\n",
    "        # return: float\n",
    "        # -------------------------------\n",
    "        # ADD CODE HERE\n",
    "        train_accuracy = accuracy_score(y_predict_train, y_train)\n",
    "        # -------------------------------\n",
    "        return train_accuracy\n",
    "\n",
    "    # points [1]\n",
    "    def svcTestAccuracy(self,y_test,y_predict_test):\n",
    "        # TODO: Return accuracy (on the test set) using the accuracy_score method.\n",
    "        # args: pandas series, numpy array\n",
    "        # return: float\n",
    "        # -------------------------------\n",
    "        # ADD CODE HERE\n",
    "        test_accuracy = accuracy_score(y_predict_test, y_test)\n",
    "        # -------------------------------\n",
    "        return test_accuracy\n",
    "    \n",
    "# Q3.4.4 Cross Validation Results\n",
    "\n",
    "    # points [1]\n",
    "    def SVMRankTestScore(self,svm_cv):\n",
    "        # TODO: Return the rank test score for all hyperparameter values that you obtained in Q3.4.3. The \n",
    "        # GridSearchCV class holds a 'cv_results_' dictionary that should help you report these metrics easily.\n",
    "        # args: GridSearchCV object \n",
    "        # return: int array\n",
    "        # -------------------------------\n",
    "        # ADD CODE HERE\n",
    "        \"\"\"for i in range(len(svm_cv.cv_results_[\"params\"])):\n",
    "            if svm_cv.cv_results_[\"params\"][i] == svm_cv.best_params_:\n",
    "                rank_test_score = svm_cv.cv_results_[\"rank_test_score\"][i]\n",
    "        \"\"\"\n",
    "        rank_test_score = svm_cv.cv_results_[\"rank_test_score\"]\n",
    "        # -------------------------------\n",
    "        return rank_test_score\n",
    "    \n",
    "    # points [1]\n",
    "    def SVMMeanTestScore(self,svm_cv):\n",
    "        # TODO: Return mean test score for all of hyperparameter values that you obtained in Q3.4.3. The \n",
    "        # GridSearchCV class holds a 'cv_results_' dictionary that should help you report these metrics easily.\n",
    "        # args: GridSearchCV object\n",
    "        # return: float array\n",
    "        # -------------------------------\n",
    "        # ADD CODE HERE\n",
    "        \"\"\"for i in range(len(svm_cv.cv_results_[\"params\"])):\n",
    "            if svm_cv.cv_results_[\"params\"][i] == svm_cv.best_params_:\n",
    "                mean_test_score = svm_cv.cv_results_[\"mean_test_score\"][i]\n",
    "        \"\"\"\n",
    "        mean_test_score = svm_cv.cv_results_[\"mean_test_score\"]\n",
    "        # -------------------------------\n",
    "        return mean_test_score"
   ]
  },
  {
   "cell_type": "code",
   "execution_count": 69,
   "metadata": {},
   "outputs": [],
   "source": [
    "svm = SupportVectorMachine()"
   ]
  },
  {
   "cell_type": "code",
   "execution_count": 70,
   "metadata": {},
   "outputs": [],
   "source": [
    "scaled_x_train, scaled_x_test = svm.dataPreProcess(x_train,x_test)\n",
    "y_predict_train,y_predict_test = svm.SVCClassifier(scaled_x_train,scaled_x_test, y_train)\n",
    "train_accuracy = svm.SVCTrainAccuracy(y_train,y_predict_train)\n",
    "test_accuracy = svm.SVCTestAccuracy(y_test,y_predict_test)\n",
    " \n"
   ]
  },
  {
   "cell_type": "code",
   "execution_count": 71,
   "metadata": {},
   "outputs": [
    {
     "name": "stdout",
     "output_type": "stream",
     "text": [
      "train_accuracy = 0.5610942249240122\n",
      "test_accuracy = 0.5339943342776204\n"
     ]
    }
   ],
   "source": [
    "print(\"train_accuracy = \" + str(train_accuracy))\n",
    "print(\"test_accuracy = \" + str(test_accuracy))"
   ]
  },
  {
   "cell_type": "code",
   "execution_count": 72,
   "metadata": {},
   "outputs": [
    {
     "name": "stderr",
     "output_type": "stream",
     "text": [
      "/Users/jonhuaqin/opt/anaconda3/lib/python3.7/site-packages/sklearn/model_selection/_split.py:1978: FutureWarning: The default value of cv will change from 3 to 5 in version 0.22. Specify it explicitly to silence this warning.\n",
      "  warnings.warn(CV_WARNING, FutureWarning)\n"
     ]
    }
   ],
   "source": [
    "svm_cv, best_score = svm.SVMBestScore(scaled_x_train, y_train)\n",
    "y_predict_train, y_predict_test = svm.SVCClassifierParam(svm_cv,scaled_x_train,scaled_x_test,y_train)\n",
    "train_accuracy = svm.svcTrainAccuracy(y_train,y_predict_train)\n",
    "test_accuracy = svm.svcTestAccuracy(y_test,y_predict_test)"
   ]
  },
  {
   "cell_type": "code",
   "execution_count": 73,
   "metadata": {},
   "outputs": [
    {
     "name": "stdout",
     "output_type": "stream",
     "text": [
      "train_accuracy = 0.5519756838905775\n",
      "test_accuracy = 0.5311614730878187\n"
     ]
    }
   ],
   "source": [
    "print(\"train_accuracy = \" + str(train_accuracy))\n",
    "print(\"test_accuracy = \" + str(test_accuracy))"
   ]
  },
  {
   "cell_type": "code",
   "execution_count": 76,
   "metadata": {},
   "outputs": [],
   "source": [
    "rank_test_score = svm_cv.cv_results_[\"rank_test_score\"]\n",
    "mean_test_score = svm_cv.cv_results_[\"mean_test_score\"]\n"
   ]
  },
  {
   "cell_type": "code",
   "execution_count": 77,
   "metadata": {},
   "outputs": [
    {
     "name": "stdout",
     "output_type": "stream",
     "text": [
      "[1 1 1 1 1 6]\n"
     ]
    }
   ],
   "source": [
    "print(rank_test_score)\n"
   ]
  },
  {
   "cell_type": "code",
   "execution_count": 78,
   "metadata": {},
   "outputs": [
    {
     "name": "stdout",
     "output_type": "stream",
     "text": [
      "[0.55197568 0.55197568 0.55197568 0.55197568 0.55197568 0.54346505]\n"
     ]
    }
   ],
   "source": [
    "print(mean_test_score)"
   ]
  },
  {
   "cell_type": "code",
   "execution_count": 79,
   "metadata": {},
   "outputs": [],
   "source": [
    "temp = post[post['created_utc'] == '2014-12-31']\n",
    "temp1 = temp[temp['submissionID'] == '2qzjqr']"
   ]
  },
  {
   "cell_type": "code",
   "execution_count": null,
   "metadata": {},
   "outputs": [],
   "source": []
  },
  {
   "cell_type": "code",
   "execution_count": null,
   "metadata": {},
   "outputs": [],
   "source": []
  },
  {
   "cell_type": "code",
   "execution_count": null,
   "metadata": {},
   "outputs": [],
   "source": []
  },
  {
   "cell_type": "code",
   "execution_count": 80,
   "metadata": {},
   "outputs": [
    {
     "data": {
      "text/html": [
       "<div>\n",
       "<style scoped>\n",
       "    .dataframe tbody tr th:only-of-type {\n",
       "        vertical-align: middle;\n",
       "    }\n",
       "\n",
       "    .dataframe tbody tr th {\n",
       "        vertical-align: top;\n",
       "    }\n",
       "\n",
       "    .dataframe thead th {\n",
       "        text-align: right;\n",
       "    }\n",
       "</style>\n",
       "<table border=\"1\" class=\"dataframe\">\n",
       "  <thead>\n",
       "    <tr style=\"text-align: right;\">\n",
       "      <th></th>\n",
       "      <th>created_utc</th>\n",
       "      <th>submissionID</th>\n",
       "      <th>full_link</th>\n",
       "      <th>author</th>\n",
       "      <th>author_flair_richtext</th>\n",
       "      <th>num_comments</th>\n",
       "      <th>score</th>\n",
       "      <th>title</th>\n",
       "      <th>selftext</th>\n",
       "      <th>link</th>\n",
       "    </tr>\n",
       "  </thead>\n",
       "  <tbody>\n",
       "    <tr>\n",
       "      <td>0</td>\n",
       "      <td>2014-12-31</td>\n",
       "      <td>2qzjqr</td>\n",
       "      <td></td>\n",
       "      <td>livebitcoinnews</td>\n",
       "      <td></td>\n",
       "      <td>0</td>\n",
       "      <td>1</td>\n",
       "      <td>CheapAir now Taking over Bitcoin, Dogecoin and...</td>\n",
       "      <td></td>\n",
       "      <td>https://www.reddit.com/r/Bitcoin/comments/2qzj...</td>\n",
       "    </tr>\n",
       "    <tr>\n",
       "      <td>88035</td>\n",
       "      <td>2014-12-31</td>\n",
       "      <td>2qzjqr</td>\n",
       "      <td></td>\n",
       "      <td>livebitcoinnews</td>\n",
       "      <td></td>\n",
       "      <td>0</td>\n",
       "      <td>1</td>\n",
       "      <td>CheapAir now Taking over Bitcoin, Dogecoin and...</td>\n",
       "      <td></td>\n",
       "      <td>https://www.reddit.com/r/Bitcoin/comments/2qzj...</td>\n",
       "    </tr>\n",
       "  </tbody>\n",
       "</table>\n",
       "</div>"
      ],
      "text/plain": [
       "      created_utc submissionID full_link           author  \\\n",
       "0      2014-12-31       2qzjqr            livebitcoinnews   \n",
       "88035  2014-12-31       2qzjqr            livebitcoinnews   \n",
       "\n",
       "      author_flair_richtext  num_comments  score  \\\n",
       "0                                       0      1   \n",
       "88035                                   0      1   \n",
       "\n",
       "                                                   title selftext  \\\n",
       "0      CheapAir now Taking over Bitcoin, Dogecoin and...            \n",
       "88035  CheapAir now Taking over Bitcoin, Dogecoin and...            \n",
       "\n",
       "                                                    link  \n",
       "0      https://www.reddit.com/r/Bitcoin/comments/2qzj...  \n",
       "88035  https://www.reddit.com/r/Bitcoin/comments/2qzj...  "
      ]
     },
     "execution_count": 80,
     "metadata": {},
     "output_type": "execute_result"
    }
   ],
   "source": [
    "temp1"
   ]
  },
  {
   "cell_type": "code",
   "execution_count": 83,
   "metadata": {},
   "outputs": [
    {
     "name": "stdout",
     "output_type": "stream",
     "text": [
      "https://www.reddit.com/r/Bitcoin/comments/2qzjqr/cheapair_now_taking_over_bitcoin_dogecoin_and/\n"
     ]
    }
   ],
   "source": [
    "print(temp1['link'][0])"
   ]
  },
  {
   "cell_type": "code",
   "execution_count": null,
   "metadata": {},
   "outputs": [],
   "source": []
  }
 ],
 "metadata": {
  "kernelspec": {
   "display_name": "Python 3",
   "language": "python",
   "name": "python3"
  },
  "language_info": {
   "codemirror_mode": {
    "name": "ipython",
    "version": 3
   },
   "file_extension": ".py",
   "mimetype": "text/x-python",
   "name": "python",
   "nbconvert_exporter": "python",
   "pygments_lexer": "ipython3",
   "version": "3.7.4"
  }
 },
 "nbformat": 4,
 "nbformat_minor": 2
}
